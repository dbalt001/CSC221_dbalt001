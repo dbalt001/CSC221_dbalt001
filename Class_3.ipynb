{
  "nbformat": 4,
  "nbformat_minor": 0,
  "metadata": {
    "colab": {
      "provenance": [],
      "toc_visible": true,
      "authorship_tag": "ABX9TyPLPhVYtW/a+YkDMaKbC2kv",
      "include_colab_link": true
    },
    "kernelspec": {
      "name": "python3",
      "display_name": "Python 3"
    },
    "language_info": {
      "name": "python"
    }
  },
  "cells": [
    {
      "cell_type": "markdown",
      "metadata": {
        "id": "view-in-github",
        "colab_type": "text"
      },
      "source": [
        "<a href=\"https://colab.research.google.com/github/dbalt001/CSC221_dbalt001/blob/main/Class_3.ipynb\" target=\"_parent\"><img src=\"https://colab.research.google.com/assets/colab-badge.svg\" alt=\"Open In Colab\"/></a>"
      ]
    },
    {
      "cell_type": "markdown",
      "source": [
        "# CSC 221 Spring 2024\n",
        "\n",
        "- Dylan Balta"
      ],
      "metadata": {
        "id": "ObldrcR-6YMi"
      }
    },
    {
      "cell_type": "code",
      "execution_count": null,
      "metadata": {
        "colab": {
          "base_uri": "https://localhost:8080/"
        },
        "id": "o3588CsK2keI",
        "outputId": "66ccce5d-56c1-4a14-acac-a27e630f950f"
      },
      "outputs": [
        {
          "output_type": "stream",
          "name": "stdout",
          "text": [
            "13 12.5 fred\n",
            "<class 'int'>\n",
            "<class 'float'>\n",
            "<class 'str'>\n",
            "<class 'int'> 103521923711427330139508660561111399310356231562909825053544787423528887795603512927942762680653876132399975884814583882073552996857463797\n"
          ]
        }
      ],
      "source": [
        "a = 13\n",
        "b = 12.5\n",
        "c = 'fred'\n",
        "\n",
        "print(a, b, c)\n",
        "\n",
        "print(type(a))\n",
        "print(type(b))\n",
        "print(type(c))\n",
        "\n",
        "b = a**123\n",
        "print(type(b), b)"
      ]
    },
    {
      "cell_type": "code",
      "source": [
        "f2 = 1/3\n",
        "print(f2)"
      ],
      "metadata": {
        "colab": {
          "base_uri": "https://localhost:8080/"
        },
        "id": "0ZgnlnJY7qAr",
        "outputId": "02c0fe3e-bfbf-4be9-dd4c-b99d9644e2b0"
      },
      "execution_count": null,
      "outputs": [
        {
          "output_type": "stream",
          "name": "stdout",
          "text": [
            "0.3333333333333333\n"
          ]
        }
      ]
    },
    {
      "cell_type": "code",
      "source": [
        "print(1/11)"
      ],
      "metadata": {
        "colab": {
          "base_uri": "https://localhost:8080/"
        },
        "id": "yUZjI59a74KU",
        "outputId": "c1dc0b8e-38af-48d1-ef5f-0c25153e6279"
      },
      "execution_count": null,
      "outputs": [
        {
          "output_type": "stream",
          "name": "stdout",
          "text": [
            "0.09090909090909091\n"
          ]
        }
      ]
    },
    {
      "cell_type": "code",
      "source": [
        "print(c)"
      ],
      "metadata": {
        "colab": {
          "base_uri": "https://localhost:8080/"
        },
        "id": "kKtIcQQq8FC-",
        "outputId": "c0aa1c09-22c8-4a1f-d4af-05811e0da76f"
      },
      "execution_count": null,
      "outputs": [
        {
          "output_type": "stream",
          "name": "stdout",
          "text": [
            "fred\n"
          ]
        }
      ]
    },
    {
      "cell_type": "code",
      "source": [
        "@ A-Za-z_ followed by 0-9A-Za-z"
      ],
      "metadata": {
        "colab": {
          "base_uri": "https://localhost:8080/",
          "height": 143
        },
        "id": "ziUEev-D8JWe",
        "outputId": "b4c6df98-bbcb-4ae3-8fcf-bbd36f6746c8"
      },
      "execution_count": null,
      "outputs": [
        {
          "output_type": "error",
          "ename": "SyntaxError",
          "evalue": "invalid decimal literal (<ipython-input-8-e53a2fe3505e>, line 1)",
          "traceback": [
            "\u001b[0;36m  File \u001b[0;32m\"<ipython-input-8-e53a2fe3505e>\"\u001b[0;36m, line \u001b[0;32m1\u001b[0m\n\u001b[0;31m    @ A-Za-z_ followed by 0-9A-Za-z\u001b[0m\n\u001b[0m                            ^\u001b[0m\n\u001b[0;31mSyntaxError\u001b[0m\u001b[0;31m:\u001b[0m invalid decimal literal\n"
          ]
        }
      ]
    },
    {
      "cell_type": "code",
      "source": [
        "_3abc = 12"
      ],
      "metadata": {
        "id": "lXUzArYC8Zi0"
      },
      "execution_count": null,
      "outputs": []
    },
    {
      "cell_type": "code",
      "source": [
        "# Good and bad variable names\n",
        "age_in_years = 19\n",
        "last_name = 'Balta'\n",
        "first_name = 'Dylan'\n",
        "\n",
        "AgeInYears = 19\n",
        "\n",
        "print(f'age_in_years={age_in_years} and 4 squared is {4**2}')"
      ],
      "metadata": {
        "colab": {
          "base_uri": "https://localhost:8080/"
        },
        "id": "huYC5bOs8mtX",
        "outputId": "ed6e21da-2244-490c-d4e7-e56841ef84d1"
      },
      "execution_count": null,
      "outputs": [
        {
          "output_type": "stream",
          "name": "stdout",
          "text": [
            "age_in_years=19 and 4 squared is 16\n"
          ]
        }
      ]
    },
    {
      "cell_type": "code",
      "source": [
        "print(age_in_years)"
      ],
      "metadata": {
        "colab": {
          "base_uri": "https://localhost:8080/"
        },
        "id": "aYLHjeF39mAV",
        "outputId": "2f91ef14-f745-4485-b157-65964f1e41dd"
      },
      "execution_count": null,
      "outputs": [
        {
          "output_type": "stream",
          "name": "stdout",
          "text": [
            "19\n"
          ]
        }
      ]
    },
    {
      "cell_type": "code",
      "source": [
        "#Intro to functions and objects\n",
        "\n",
        "def f1(x):\n",
        "  y=3 * x + 2\n",
        "  return y\n",
        "\n",
        "def f2(x):\n",
        "  print(f'Hi I\\'m f2 and I got {x}')\n",
        "\n",
        "def f3(x):\n",
        "  print(f\"Hi I'm f3 and I got {x}\")\n",
        "\n",
        "y = f1(12)\n",
        "print(y)\n",
        "\n",
        "f2(12)\n",
        "f3(21)"
      ],
      "metadata": {
        "id": "gjVYAnL59t0n",
        "colab": {
          "base_uri": "https://localhost:8080/"
        },
        "outputId": "aaa10ab4-4a57-4c6d-8ce8-4e4fad6471e0"
      },
      "execution_count": 27,
      "outputs": [
        {
          "output_type": "stream",
          "name": "stdout",
          "text": [
            "38\n",
            "Hi I'm f2 and I got 12\n",
            "Hi I'm f3 and I got 21\n"
          ]
        }
      ]
    },
    {
      "cell_type": "code",
      "source": [
        "name = 'dylan balta'\n",
        "\n",
        "print(name[0:6])"
      ],
      "metadata": {
        "colab": {
          "base_uri": "https://localhost:8080/"
        },
        "id": "qfkCjFpBC_ad",
        "outputId": "d1be648e-2f59-4d49-897c-4bdf2916494a"
      },
      "execution_count": 34,
      "outputs": [
        {
          "output_type": "stream",
          "name": "stdout",
          "text": [
            "dylan \n"
          ]
        }
      ]
    },
    {
      "cell_type": "code",
      "source": [
        "#Roll one die 200 hundred times and see sum of all\n",
        "import random\n",
        "def roll():\n",
        "  r = random.randint(1,6)\n",
        "  return r\n",
        "\n",
        "for i in range(20):\n",
        "  print(i, roll())"
      ],
      "metadata": {
        "colab": {
          "base_uri": "https://localhost:8080/"
        },
        "id": "P5jqJy8NDo_H",
        "outputId": "ee3727eb-9170-4c22-b88f-9cb417ce53be"
      },
      "execution_count": 37,
      "outputs": [
        {
          "output_type": "stream",
          "name": "stdout",
          "text": [
            "0 6\n",
            "1 4\n",
            "2 2\n",
            "3 4\n",
            "4 3\n",
            "5 1\n",
            "6 6\n",
            "7 3\n",
            "8 6\n",
            "9 1\n",
            "10 6\n",
            "11 5\n",
            "12 1\n",
            "13 4\n",
            "14 4\n",
            "15 3\n",
            "16 4\n",
            "17 2\n",
            "18 4\n",
            "19 2\n"
          ]
        }
      ]
    },
    {
      "cell_type": "code",
      "source": [
        "#Roll one die 200 hundred times and see sum of all\n",
        "import random\n",
        "def roll():\n",
        "  r = random.randint(1,6)\n",
        "  return r\n",
        "\n",
        "def roll_n_times(n):\n",
        "  total = 0\n",
        "  for i in range(n):\n",
        "    r1 = roll()\n",
        "    total = total + r1\n",
        "    #print(i, r1)\n",
        "  return total\n",
        "\n",
        "t1 = roll_n_times(5)\n",
        "t2 = roll_n_times(200)\n",
        "\n",
        "print(t1, t2)"
      ],
      "metadata": {
        "colab": {
          "base_uri": "https://localhost:8080/"
        },
        "id": "ei5ntNRREPkb",
        "outputId": "6e4b6049-2287-4d2a-d3e6-71a28fdfd57b"
      },
      "execution_count": 49,
      "outputs": [
        {
          "output_type": "stream",
          "name": "stdout",
          "text": [
            "15 722\n"
          ]
        }
      ]
    },
    {
      "cell_type": "code",
      "source": [
        "for i in range(20):\n",
        "  print(roll_n_times(20000))"
      ],
      "metadata": {
        "colab": {
          "base_uri": "https://localhost:8080/"
        },
        "id": "n8ReBtthF9pW",
        "outputId": "1e1ca536-8235-46f0-939a-5e1a854ffcdf"
      },
      "execution_count": 51,
      "outputs": [
        {
          "output_type": "stream",
          "name": "stdout",
          "text": [
            "70116\n",
            "69687\n",
            "70215\n",
            "69937\n",
            "69681\n",
            "69781\n",
            "69996\n",
            "70020\n",
            "69565\n",
            "69894\n",
            "69724\n",
            "70553\n",
            "70267\n",
            "70367\n",
            "70185\n",
            "69747\n",
            "70328\n",
            "70180\n",
            "70337\n",
            "69869\n"
          ]
        }
      ]
    }
  ]
}