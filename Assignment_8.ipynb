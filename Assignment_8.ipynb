{
  "nbformat": 4,
  "nbformat_minor": 0,
  "metadata": {
    "colab": {
      "provenance": [],
      "authorship_tag": "ABX9TyMJuJclG+hXBueRz0NfE22g",
      "include_colab_link": true
    },
    "kernelspec": {
      "name": "python3",
      "display_name": "Python 3"
    },
    "language_info": {
      "name": "python"
    }
  },
  "cells": [
    {
      "cell_type": "markdown",
      "metadata": {
        "id": "view-in-github",
        "colab_type": "text"
      },
      "source": [
        "<a href=\"https://colab.research.google.com/github/dbalt001/CSC221_dbalt001/blob/main/Assignment_8.ipynb\" target=\"_parent\"><img src=\"https://colab.research.google.com/assets/colab-badge.svg\" alt=\"Open In Colab\"/></a>"
      ]
    },
    {
      "cell_type": "code",
      "execution_count": null,
      "metadata": {
        "colab": {
          "base_uri": "https://localhost:8080/"
        },
        "id": "OFgt9ZRBi58y",
        "outputId": "f5c06d8d-dd65-4c88-9897-45d735e7cb3f"
      },
      "outputs": [
        {
          "output_type": "stream",
          "name": "stdout",
          "text": [
            "My favorite book is Harry Potter\n"
          ]
        }
      ],
      "source": [
        "# TIY 8-2\n",
        "\n",
        "def favorite_book(title):\n",
        "  print(f\"My favorite book is {title.title()}\")\n",
        "\n",
        "favorite_book('harry potter')"
      ]
    },
    {
      "cell_type": "code",
      "source": [
        "# TIY 8-3\n",
        "\n",
        "def make_shirt(shirt_size, shirt_text):\n",
        "  print(f\"The shirt is a size {shirt_size} and says '{shirt_text}' on it\")\n",
        "\n",
        "make_shirt('medium', 'I heart NY')\n",
        "make_shirt(shirt_text = 'I am Spongebob', shirt_size = 'small')"
      ],
      "metadata": {
        "colab": {
          "base_uri": "https://localhost:8080/"
        },
        "id": "vPSFaBWPkQb9",
        "outputId": "d60014d9-60d7-4ec5-95d9-8c2cfac92aaf"
      },
      "execution_count": null,
      "outputs": [
        {
          "output_type": "stream",
          "name": "stdout",
          "text": [
            "The shirt is a size medium and says 'I heart NY' on it\n",
            "The shirt is a size small and says 'I am Spongebob' on it\n"
          ]
        }
      ]
    },
    {
      "cell_type": "code",
      "source": [
        "# TIY 8-4\n",
        "\n",
        "def make_shirt(shirt_size = 'large', shirt_text = 'I love Python'):\n",
        "  print(f\"The shirt is a size {shirt_size} and says '{shirt_text}' on it\")\n",
        "\n",
        "make_shirt()\n",
        "make_shirt(shirt_size = 'medium')\n",
        "make_shirt(shirt_text = ' I am Spongebob', shirt_size = 'small')"
      ],
      "metadata": {
        "colab": {
          "base_uri": "https://localhost:8080/"
        },
        "id": "CcHui-g4lLqx",
        "outputId": "8e4831f4-8026-4791-861c-c49f347c872a"
      },
      "execution_count": null,
      "outputs": [
        {
          "output_type": "stream",
          "name": "stdout",
          "text": [
            "The shirt is a size large and says 'I love Python' on it\n",
            "The shirt is a size medium and says 'I love Python' on it\n",
            "The shirt is a size small and says ' I am Spongebob' on it\n"
          ]
        }
      ]
    },
    {
      "cell_type": "code",
      "source": [
        "# Function\n",
        "def func8(a, b, c=42):\n",
        "  '''Function takes either 2 or 3 arguments because it has 3 parameters, it can take an argument for the value of a, b, and c,'''\n",
        "  '''with no third argument necessary because c has a default value of 42'''\n",
        "\n",
        "# Set the numbers into a list\n",
        "  numbers = [a, b, c]\n",
        "\n",
        "# Sort them in numerical order\n",
        "  numbers.sort()\n",
        "\n",
        "# Variable for getting the sum of all the numbers\n",
        "  total_sum = sum(numbers)\n",
        "\n",
        "# Allow the numbers to be multiplied together\n",
        "  product = 1\n",
        "\n",
        "# For loop to get all the values of the adding and multiplying, as well as the sorted list\n",
        "  for num in numbers:\n",
        "    product = product * num\n",
        "  return total_sum, product, numbers\n",
        "\n",
        "# Setting the parameters for the function\n",
        "sum_answer, product_answer, sorted_numbers = func8(4, 8)\n",
        "print(sum_answer)\n",
        "print(product_answer)\n",
        "print(sorted_numbers)\n",
        "\n",
        "print('\\n')\n",
        "\n",
        "sum_answer, product_answer, sorted_numbers = func8(5, 2)\n",
        "print(sum_answer)\n",
        "print(product_answer)\n",
        "print(sorted_numbers)\n",
        "\n",
        "print('\\n')\n",
        "\n",
        "sum_answer, product_answer, sorted_numbers = func8(4372, 437824)\n",
        "print(sum_answer)\n",
        "print(product_answer)\n",
        "print(sorted_numbers)"
      ],
      "metadata": {
        "id": "bScQjun4lNEh",
        "colab": {
          "base_uri": "https://localhost:8080/"
        },
        "outputId": "c44bf10b-663a-4146-aa2f-63102187b528"
      },
      "execution_count": 26,
      "outputs": [
        {
          "output_type": "stream",
          "name": "stdout",
          "text": [
            "54\n",
            "1344\n",
            "[4, 8, 42]\n",
            "\n",
            "\n",
            "49\n",
            "420\n",
            "[2, 5, 42]\n",
            "\n",
            "\n",
            "442238\n",
            "80394994176\n",
            "[42, 4372, 437824]\n"
          ]
        }
      ]
    },
    {
      "cell_type": "code",
      "source": [],
      "metadata": {
        "id": "gM7tGZUppLYi"
      },
      "execution_count": null,
      "outputs": []
    }
  ]
}