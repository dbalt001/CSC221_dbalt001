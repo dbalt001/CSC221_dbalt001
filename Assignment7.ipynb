{
  "nbformat": 4,
  "nbformat_minor": 0,
  "metadata": {
    "colab": {
      "provenance": [],
      "authorship_tag": "ABX9TyNffHWT9ZIzk74e5IFVoCPO",
      "include_colab_link": true
    },
    "kernelspec": {
      "name": "python3",
      "display_name": "Python 3"
    },
    "language_info": {
      "name": "python"
    }
  },
  "cells": [
    {
      "cell_type": "markdown",
      "metadata": {
        "id": "view-in-github",
        "colab_type": "text"
      },
      "source": [
        "<a href=\"https://colab.research.google.com/github/dbalt001/CSC221_dbalt001/blob/main/Assignment7.ipynb\" target=\"_parent\"><img src=\"https://colab.research.google.com/assets/colab-badge.svg\" alt=\"Open In Colab\"/></a>"
      ]
    },
    {
      "cell_type": "code",
      "execution_count": 2,
      "metadata": {
        "colab": {
          "base_uri": "https://localhost:8080/"
        },
        "id": "ceBLBsSmx7NK",
        "outputId": "3acaa556-7ba4-42f1-efdd-72e70e482928"
      },
      "outputs": [
        {
          "output_type": "stream",
          "name": "stdout",
          "text": [
            "My first name is Dylan.\n",
            "My last name is Balta.\n",
            "I am 19.\n",
            "I live in Plattsburgh\n"
          ]
        }
      ],
      "source": [
        "# TIY 6-1\n",
        "\n",
        "info = {\n",
        "    'first_name': 'dylan',\n",
        "    'last_name': 'balta',\n",
        "    'age': '19',\n",
        "    'city': 'plattsburgh',\n",
        "    }\n",
        "\n",
        "first = info['first_name'].title()\n",
        "print(f\"My first name is {first}.\")\n",
        "\n",
        "last = info['last_name'].title()\n",
        "print(f\"My last name is {last}.\")\n",
        "\n",
        "age = info['age']\n",
        "print(f\"I am {age}.\")\n",
        "\n",
        "city = info['city'].title()\n",
        "print(f\"I live in {city}.\")"
      ]
    },
    {
      "cell_type": "code",
      "source": [
        "# TIY 6-2\n",
        "\n",
        "favorite_number = {\n",
        "    'harry': '13',\n",
        "    'robert': '49',\n",
        "    'anthony': '2',\n",
        "    'steve': '0',\n",
        "}\n",
        "\n",
        "print(f\"Harry's favorite number is {favorite_number['harry']}\")\n",
        "print(f\"Robert's favorite number is {favorite_number['robert']}\")\n",
        "print(f\"Anthony's favorite number is {favorite_number['anthony']}\")\n",
        "print(f\"Steve's favorite number is {favorite_number['steve']}\")"
      ],
      "metadata": {
        "colab": {
          "base_uri": "https://localhost:8080/"
        },
        "id": "_DxxDes52a_k",
        "outputId": "999699b5-794b-4800-ffd1-aab93730c3fe"
      },
      "execution_count": 7,
      "outputs": [
        {
          "output_type": "stream",
          "name": "stdout",
          "text": [
            "Harry's favorite number is 13\n",
            "Robert's favorite number is 49\n",
            "Anthony's favorite number is 2\n",
            "Steve's favorite number is 0\n"
          ]
        }
      ]
    },
    {
      "cell_type": "code",
      "source": [
        "# TIY 6-4\n",
        "\n",
        "\n",
        "words = {\n",
        "    'print': 'prints out the statement',\n",
        "    'import': 'uses a preexisting script',\n",
        "    'break': 'stops a script from running',\n",
        "    'def': 'sets something as a function',\n",
        "    'del': 'deletes something from a dictionary',\n",
        "    'return': 'gives a value back',\n",
        "    'if': 'checks to see if a certain criteria is met',\n",
        "    'elif': 'checks to see if criteria are met, but is also part of an if elif else chain',\n",
        "    'else': 'hasn\\'t met the if elif criterias, now does the else',\n",
        "    'and': 'combines two criteria that need to both be met'\n",
        "}\n",
        "\n",
        "for words, definitions in words.items():\n",
        "  print(f\"{words.title()} means it {definitions}\")\n"
      ],
      "metadata": {
        "colab": {
          "base_uri": "https://localhost:8080/"
        },
        "id": "f_BTbqz13Z8O",
        "outputId": "6eadfb4a-c067-48bf-c749-a40c70ee2a5c"
      },
      "execution_count": 14,
      "outputs": [
        {
          "output_type": "stream",
          "name": "stdout",
          "text": [
            "Print means it prints out the statement\n",
            "Import means it uses a preexisting script\n",
            "Break means it stops a script from running\n",
            "Def means it sets something as a function\n",
            "Del means it deletes something from a dictionary\n",
            "Return means it gives a value back\n",
            "If means it checks to see if a certain criteria is met\n",
            "Elif means it checks to see if criteria are met, but is also part of an if elif else chain\n",
            "Else means it hasn't met the if elif criterias, now does the else\n",
            "And means it combines two criteria that need to both be met\n"
          ]
        }
      ]
    },
    {
      "cell_type": "code",
      "source": [
        "# TIY 6-11\n",
        "\n",
        "places = {\n",
        "    'shenyang': {\n",
        "        'country': 'china',\n",
        "        'population': '8 million',\n",
        "        'fact': 'Shenyang is the capital of the Liaoning Province',\n",
        "    },\n",
        "\n",
        "    'warsaw': {\n",
        "        'country': 'poland',\n",
        "        'population': '1.7 million',\n",
        "        'fact': 'over 14% of Warsaw is woodlands',\n",
        "    },\n",
        "    'tijuana': {\n",
        "        'country': 'mexico',\n",
        "        'population': '2 million',\n",
        "        'fact': 'it is the 47th largest city in the Americas'\n",
        "    },\n",
        "}\n",
        "\n",
        "for city, info in places.items():\n",
        "  print(f\"\\nCity: {city.title()}\")\n",
        "  country = info['country']\n",
        "  population = info['population']\n",
        "  fact = info['fact']\n",
        "\n",
        "  print(f\"\\tThis city is in the country of {country.title()}\")\n",
        "  print(f\"\\tThis city has an approximate population of {population}\")\n",
        "  print(f\"\\tA fun fact about this city is that {fact}\")"
      ],
      "metadata": {
        "colab": {
          "base_uri": "https://localhost:8080/"
        },
        "id": "rbX5__xZ5QOc",
        "outputId": "3e9d4f5e-bee7-45d3-fbf7-7ad70d92f2a8"
      },
      "execution_count": 34,
      "outputs": [
        {
          "output_type": "stream",
          "name": "stdout",
          "text": [
            "\n",
            "City: Shenyang\n",
            "\tThis city is in the country of China\n",
            "\tThis city has an approximate population of 8 million\n",
            "\tA fun fact about this city is that Shenyang is the capital of the Liaoning Province\n",
            "\n",
            "City: Warsaw\n",
            "\tThis city is in the country of Poland\n",
            "\tThis city has an approximate population of 1.7 million\n",
            "\tA fun fact about this city is that over 14% of Warsaw is woodlands\n",
            "\n",
            "City: Tijuana\n",
            "\tThis city is in the country of Mexico\n",
            "\tThis city has an approximate population of 2 million\n",
            "\tA fun fact about this city is that it is the 47th largest city in the Americas\n"
          ]
        }
      ]
    },
    {
      "cell_type": "code",
      "source": [
        "%%file test.scores\n",
        "\n",
        "george, 92\n",
        "tom, 84\n",
        "jim, 98\n",
        "ned, 89\n",
        "albert, 78\n"
      ],
      "metadata": {
        "colab": {
          "base_uri": "https://localhost:8080/"
        },
        "id": "15MnANC6BnDg",
        "outputId": "c0edf6e1-1b01-4b19-9bd1-1db7cf241f80"
      },
      "execution_count": 47,
      "outputs": [
        {
          "output_type": "stream",
          "name": "stdout",
          "text": [
            "Writing test.scores\n"
          ]
        }
      ]
    },
    {
      "cell_type": "code",
      "source": [
        "test_scores = {\n",
        "    'george': '92',\n",
        "    'tom': '84',\n",
        "    'jim': '98',\n",
        "    'ned': '89',\n",
        "    'albert': '78',\n",
        "}\n",
        "\n",
        "sorted_names = sorted(test_scores.keys())\n",
        "sorted_scores = sorted(test_scores.values())\n",
        "\n",
        "print(sorted_names)\n",
        "print(sorted_scores)"
      ],
      "metadata": {
        "colab": {
          "base_uri": "https://localhost:8080/"
        },
        "id": "abccIc-4GPOK",
        "outputId": "e15add09-9b6c-408a-aa37-9b86775cc413"
      },
      "execution_count": 48,
      "outputs": [
        {
          "output_type": "stream",
          "name": "stdout",
          "text": [
            "['albert', 'george', 'jim', 'ned', 'tom']\n",
            "['78', '84', '89', '92', '98']\n"
          ]
        }
      ]
    },
    {
      "cell_type": "code",
      "source": [],
      "metadata": {
        "id": "D-Tuog0BIQaK"
      },
      "execution_count": null,
      "outputs": []
    }
  ]
}