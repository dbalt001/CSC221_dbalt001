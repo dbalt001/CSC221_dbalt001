{
  "nbformat": 4,
  "nbformat_minor": 0,
  "metadata": {
    "colab": {
      "provenance": [],
      "authorship_tag": "ABX9TyMZqvLmAv2SDgFLj6JveUbn",
      "include_colab_link": true
    },
    "kernelspec": {
      "name": "python3",
      "display_name": "Python 3"
    },
    "language_info": {
      "name": "python"
    }
  },
  "cells": [
    {
      "cell_type": "markdown",
      "metadata": {
        "id": "view-in-github",
        "colab_type": "text"
      },
      "source": [
        "<a href=\"https://colab.research.google.com/github/dbalt001/CSC221_dbalt001/blob/main/Class7.ipynb\" target=\"_parent\"><img src=\"https://colab.research.google.com/assets/colab-badge.svg\" alt=\"Open In Colab\"/></a>"
      ]
    },
    {
      "cell_type": "code",
      "execution_count": 51,
      "metadata": {
        "id": "JqzOdXh85_q4"
      },
      "outputs": [],
      "source": [
        "# CSC221 Spring 2024\n",
        "# Class 7 2/20/24\n",
        "# Dictionaries, Chapter 6"
      ]
    },
    {
      "cell_type": "code",
      "source": [
        "%%file dylancode.py\n",
        "print('Hey, I\\'m importing')\n",
        "\n",
        "v1 = 123\n",
        "\n",
        "def f1(x):\n",
        "  return x*3\n"
      ],
      "metadata": {
        "colab": {
          "base_uri": "https://localhost:8080/"
        },
        "id": "n6sUDTQW8QvA",
        "outputId": "a1a04c3f-bb59-4d44-e12d-bbdddbe0003b"
      },
      "execution_count": 52,
      "outputs": [
        {
          "output_type": "stream",
          "name": "stdout",
          "text": [
            "Overwriting dylancode.py\n"
          ]
        }
      ]
    },
    {
      "cell_type": "code",
      "source": [
        "import dylancode\n",
        "\n",
        "print(dylancode.v1)\n",
        "\n",
        "print(dylancode.f1(10))"
      ],
      "metadata": {
        "colab": {
          "base_uri": "https://localhost:8080/"
        },
        "id": "EmApPFpB9Qia",
        "outputId": "1d1f3b6b-3620-454d-f9e5-ab4c12467a4e"
      },
      "execution_count": 53,
      "outputs": [
        {
          "output_type": "stream",
          "name": "stdout",
          "text": [
            "123\n",
            "30\n"
          ]
        }
      ]
    },
    {
      "cell_type": "code",
      "source": [
        "# Dictionaries\n",
        "# Key-value pairs\n",
        "\n",
        "d1 = {'ned':518, 'alex':802, 'jeff':617}\n",
        "\n",
        "print(type(d1))"
      ],
      "metadata": {
        "colab": {
          "base_uri": "https://localhost:8080/"
        },
        "id": "HIeFIVZVAfpq",
        "outputId": "4ac4668c-8af7-4f9c-9000-f41c642f2910"
      },
      "execution_count": 54,
      "outputs": [
        {
          "output_type": "stream",
          "name": "stdout",
          "text": [
            "<class 'dict'>\n"
          ]
        }
      ]
    },
    {
      "cell_type": "code",
      "source": [
        "print(d1['ned'])"
      ],
      "metadata": {
        "colab": {
          "base_uri": "https://localhost:8080/"
        },
        "id": "7HbN2bKMBbgN",
        "outputId": "b5671f77-454f-4d62-cac8-0270dec509a9"
      },
      "execution_count": 55,
      "outputs": [
        {
          "output_type": "stream",
          "name": "stdout",
          "text": [
            "518\n"
          ]
        }
      ]
    },
    {
      "cell_type": "code",
      "source": [
        "d1['ned'] = [518, 61]\n",
        "\n",
        "print(d1)"
      ],
      "metadata": {
        "colab": {
          "base_uri": "https://localhost:8080/"
        },
        "id": "6Nrn2bf7BkQX",
        "outputId": "1565a669-24e5-4efc-9350-97698e0fd44d"
      },
      "execution_count": 56,
      "outputs": [
        {
          "output_type": "stream",
          "name": "stdout",
          "text": [
            "{'ned': [518, 61], 'alex': 802, 'jeff': 617}\n"
          ]
        }
      ]
    },
    {
      "cell_type": "code",
      "source": [
        "d1['alex'] = [802, 31]\n",
        "\n",
        "print(d1)"
      ],
      "metadata": {
        "colab": {
          "base_uri": "https://localhost:8080/"
        },
        "id": "3StFFFEZB41C",
        "outputId": "133e49e2-f34b-4a19-ea38-93a06673d4fa"
      },
      "execution_count": 57,
      "outputs": [
        {
          "output_type": "stream",
          "name": "stdout",
          "text": [
            "{'ned': [518, 61], 'alex': [802, 31], 'jeff': 617}\n"
          ]
        }
      ]
    },
    {
      "cell_type": "code",
      "source": [
        "d1['fred'] = [518, 120]\n",
        "\n",
        "print(d1)"
      ],
      "metadata": {
        "colab": {
          "base_uri": "https://localhost:8080/"
        },
        "id": "3-DLfPjKCLOm",
        "outputId": "a204f36d-c25d-4d90-b82c-2e57fa04a1b1"
      },
      "execution_count": 58,
      "outputs": [
        {
          "output_type": "stream",
          "name": "stdout",
          "text": [
            "{'ned': [518, 61], 'alex': [802, 31], 'jeff': 617, 'fred': [518, 120]}\n"
          ]
        }
      ]
    },
    {
      "cell_type": "code",
      "source": [
        "print(d1['nancy'])"
      ],
      "metadata": {
        "colab": {
          "base_uri": "https://localhost:8080/",
          "height": 145
        },
        "id": "IC4_nzyHCaqj",
        "outputId": "3681bbf5-294d-4d4c-9adf-a9b8919c1e83"
      },
      "execution_count": 59,
      "outputs": [
        {
          "output_type": "error",
          "ename": "KeyError",
          "evalue": "'nancy'",
          "traceback": [
            "\u001b[0;31m---------------------------------------------------------------------------\u001b[0m",
            "\u001b[0;31mKeyError\u001b[0m                                  Traceback (most recent call last)",
            "\u001b[0;32m<ipython-input-59-85ebbd2b0e05>\u001b[0m in \u001b[0;36m<cell line: 1>\u001b[0;34m()\u001b[0m\n\u001b[0;32m----> 1\u001b[0;31m \u001b[0mprint\u001b[0m\u001b[0;34m(\u001b[0m\u001b[0md1\u001b[0m\u001b[0;34m[\u001b[0m\u001b[0;34m'nancy'\u001b[0m\u001b[0;34m]\u001b[0m\u001b[0;34m)\u001b[0m\u001b[0;34m\u001b[0m\u001b[0;34m\u001b[0m\u001b[0m\n\u001b[0m",
            "\u001b[0;31mKeyError\u001b[0m: 'nancy'"
          ]
        }
      ]
    },
    {
      "cell_type": "code",
      "source": [
        "print(d1.keys())"
      ],
      "metadata": {
        "colab": {
          "base_uri": "https://localhost:8080/"
        },
        "id": "Pz2mIBQMCmld",
        "outputId": "9a14f53d-f99f-491c-a86a-ac32f07e4cea"
      },
      "execution_count": 60,
      "outputs": [
        {
          "output_type": "stream",
          "name": "stdout",
          "text": [
            "dict_keys(['ned', 'alex', 'jeff', 'fred'])\n"
          ]
        }
      ]
    },
    {
      "cell_type": "code",
      "source": [
        "print(d1.values())"
      ],
      "metadata": {
        "colab": {
          "base_uri": "https://localhost:8080/"
        },
        "id": "2davsnVICsDN",
        "outputId": "cf9e18b1-0cdd-4835-d209-69224119fb2f"
      },
      "execution_count": 61,
      "outputs": [
        {
          "output_type": "stream",
          "name": "stdout",
          "text": [
            "dict_values([[518, 61], [802, 31], 617, [518, 120]])\n"
          ]
        }
      ]
    },
    {
      "cell_type": "code",
      "source": [
        "d1[3] = 12345\n",
        "print(d1)\n"
      ],
      "metadata": {
        "colab": {
          "base_uri": "https://localhost:8080/"
        },
        "id": "kegIGb8ECui7",
        "outputId": "bf242947-ca89-4d2d-b8ae-458f008d2173"
      },
      "execution_count": 62,
      "outputs": [
        {
          "output_type": "stream",
          "name": "stdout",
          "text": [
            "{'ned': [518, 61], 'alex': [802, 31], 'jeff': 617, 'fred': [518, 120], 3: 12345}\n"
          ]
        }
      ]
    },
    {
      "cell_type": "code",
      "source": [
        "d1['3'] = 5678\n",
        "print(d1)"
      ],
      "metadata": {
        "colab": {
          "base_uri": "https://localhost:8080/"
        },
        "id": "X1yzqvUaC5Bv",
        "outputId": "f2199893-6532-480a-c978-a14eb50f341c"
      },
      "execution_count": 63,
      "outputs": [
        {
          "output_type": "stream",
          "name": "stdout",
          "text": [
            "{'ned': [518, 61], 'alex': [802, 31], 'jeff': 617, 'fred': [518, 120], 3: 12345, '3': 5678}\n"
          ]
        }
      ]
    },
    {
      "cell_type": "code",
      "source": [
        "print(d1[3])\n",
        "\n",
        "print(d1['3'])"
      ],
      "metadata": {
        "colab": {
          "base_uri": "https://localhost:8080/"
        },
        "id": "jh07F-cuDlFO",
        "outputId": "f3ad3c7b-51d4-4a6d-f0f6-e826ba86bb96"
      },
      "execution_count": 64,
      "outputs": [
        {
          "output_type": "stream",
          "name": "stdout",
          "text": [
            "12345\n",
            "5678\n"
          ]
        }
      ]
    },
    {
      "cell_type": "code",
      "source": [
        "d1[12.5] = 'I am a float'\n",
        "\n",
        "print(d1)"
      ],
      "metadata": {
        "colab": {
          "base_uri": "https://localhost:8080/"
        },
        "id": "wo3g-x4yD7iz",
        "outputId": "4a0f04b6-2352-4839-d0f2-9f1ccfc25856"
      },
      "execution_count": 65,
      "outputs": [
        {
          "output_type": "stream",
          "name": "stdout",
          "text": [
            "{'ned': [518, 61], 'alex': [802, 31], 'jeff': 617, 'fred': [518, 120], 3: 12345, '3': 5678, 12.5: 'I am a float'}\n"
          ]
        }
      ]
    },
    {
      "cell_type": "code",
      "source": [
        "print(d1[12.5])"
      ],
      "metadata": {
        "colab": {
          "base_uri": "https://localhost:8080/"
        },
        "id": "jmOFllbFEBtL",
        "outputId": "20b05eb6-91f2-4644-d3a0-b2c11539c88e"
      },
      "execution_count": 66,
      "outputs": [
        {
          "output_type": "stream",
          "name": "stdout",
          "text": [
            "I am a float\n"
          ]
        }
      ]
    },
    {
      "cell_type": "code",
      "source": [
        "print(d1[12.50001])"
      ],
      "metadata": {
        "colab": {
          "base_uri": "https://localhost:8080/",
          "height": 145
        },
        "id": "RVrJcBXREH83",
        "outputId": "3af69c06-29c8-4921-8af6-ce3cc6b5834c"
      },
      "execution_count": 67,
      "outputs": [
        {
          "output_type": "error",
          "ename": "KeyError",
          "evalue": "12.50001",
          "traceback": [
            "\u001b[0;31m---------------------------------------------------------------------------\u001b[0m",
            "\u001b[0;31mKeyError\u001b[0m                                  Traceback (most recent call last)",
            "\u001b[0;32m<ipython-input-67-bd2ba7629a95>\u001b[0m in \u001b[0;36m<cell line: 1>\u001b[0;34m()\u001b[0m\n\u001b[0;32m----> 1\u001b[0;31m \u001b[0mprint\u001b[0m\u001b[0;34m(\u001b[0m\u001b[0md1\u001b[0m\u001b[0;34m[\u001b[0m\u001b[0;36m12.50001\u001b[0m\u001b[0;34m]\u001b[0m\u001b[0;34m)\u001b[0m\u001b[0;34m\u001b[0m\u001b[0;34m\u001b[0m\u001b[0m\n\u001b[0m",
            "\u001b[0;31mKeyError\u001b[0m: 12.50001"
          ]
        }
      ]
    },
    {
      "cell_type": "code",
      "source": [
        "# Removing something\n",
        "\n",
        "del d1['fred']\n",
        "\n",
        "print(d1)"
      ],
      "metadata": {
        "colab": {
          "base_uri": "https://localhost:8080/"
        },
        "id": "JruPnzaTELJU",
        "outputId": "025023b3-0471-4102-93ae-e6575898b689"
      },
      "execution_count": 68,
      "outputs": [
        {
          "output_type": "stream",
          "name": "stdout",
          "text": [
            "{'ned': [518, 61], 'alex': [802, 31], 'jeff': 617, 3: 12345, '3': 5678, 12.5: 'I am a float'}\n"
          ]
        }
      ]
    },
    {
      "cell_type": "code",
      "source": [
        "# The value of get\n",
        "\n",
        "value = d1['fred']"
      ],
      "metadata": {
        "colab": {
          "base_uri": "https://localhost:8080/",
          "height": 181
        },
        "id": "QukVuzKZE4WE",
        "outputId": "8cd4a42f-be58-4c35-e5b2-1ba918a69a0c"
      },
      "execution_count": 69,
      "outputs": [
        {
          "output_type": "error",
          "ename": "KeyError",
          "evalue": "'fred'",
          "traceback": [
            "\u001b[0;31m---------------------------------------------------------------------------\u001b[0m",
            "\u001b[0;31mKeyError\u001b[0m                                  Traceback (most recent call last)",
            "\u001b[0;32m<ipython-input-69-28983c8dd0ea>\u001b[0m in \u001b[0;36m<cell line: 3>\u001b[0;34m()\u001b[0m\n\u001b[1;32m      1\u001b[0m \u001b[0;31m# The value of get\u001b[0m\u001b[0;34m\u001b[0m\u001b[0;34m\u001b[0m\u001b[0m\n\u001b[1;32m      2\u001b[0m \u001b[0;34m\u001b[0m\u001b[0m\n\u001b[0;32m----> 3\u001b[0;31m \u001b[0mvalue\u001b[0m \u001b[0;34m=\u001b[0m \u001b[0md1\u001b[0m\u001b[0;34m[\u001b[0m\u001b[0;34m'fred'\u001b[0m\u001b[0;34m]\u001b[0m\u001b[0;34m\u001b[0m\u001b[0;34m\u001b[0m\u001b[0m\n\u001b[0m",
            "\u001b[0;31mKeyError\u001b[0m: 'fred'"
          ]
        }
      ]
    },
    {
      "cell_type": "code",
      "source": [
        "value = d1.get('fred', \"That was missing\")\n",
        "print(value)"
      ],
      "metadata": {
        "colab": {
          "base_uri": "https://localhost:8080/"
        },
        "id": "Zlncx-BSFSKR",
        "outputId": "3394a4f5-7a2b-4c06-9f57-db5f06f672bd"
      },
      "execution_count": 70,
      "outputs": [
        {
          "output_type": "stream",
          "name": "stdout",
          "text": [
            "That was missing\n"
          ]
        }
      ]
    },
    {
      "cell_type": "code",
      "source": [
        "value = d1.get('ned', \"That was missing\")\n",
        "print(value)"
      ],
      "metadata": {
        "colab": {
          "base_uri": "https://localhost:8080/"
        },
        "id": "rLHvBUScFhZj",
        "outputId": "6e51d23c-685b-44ea-e898-8228cb139a65"
      },
      "execution_count": 71,
      "outputs": [
        {
          "output_type": "stream",
          "name": "stdout",
          "text": [
            "[518, 61]\n"
          ]
        }
      ]
    },
    {
      "cell_type": "code",
      "source": [
        "value = d1.get('applesauce', \"That was missing\")\n",
        "print(value)"
      ],
      "metadata": {
        "colab": {
          "base_uri": "https://localhost:8080/"
        },
        "id": "vqCYLiujFr-V",
        "outputId": "ac9323a3-418a-4a8a-f3a1-4df5272b4c73"
      },
      "execution_count": 72,
      "outputs": [
        {
          "output_type": "stream",
          "name": "stdout",
          "text": [
            "That was missing\n"
          ]
        }
      ]
    },
    {
      "cell_type": "code",
      "source": [
        "# Looping\n",
        "for x in d1.values():\n",
        "  print(f'{x=}')"
      ],
      "metadata": {
        "colab": {
          "base_uri": "https://localhost:8080/"
        },
        "id": "Acuw4V-pFveR",
        "outputId": "3faf31aa-1da6-47a3-fac5-980ea38092ca"
      },
      "execution_count": 73,
      "outputs": [
        {
          "output_type": "stream",
          "name": "stdout",
          "text": [
            "x=[518, 61]\n",
            "x=[802, 31]\n",
            "x=617\n",
            "x=12345\n",
            "x=5678\n",
            "x='I am a float'\n"
          ]
        }
      ]
    },
    {
      "cell_type": "code",
      "source": [
        "for x in d1:\n",
        "  print(f'{x=}')"
      ],
      "metadata": {
        "colab": {
          "base_uri": "https://localhost:8080/"
        },
        "id": "I94cXZZDF5fD",
        "outputId": "e61e0038-7c33-4652-b648-9a9568b39461"
      },
      "execution_count": 74,
      "outputs": [
        {
          "output_type": "stream",
          "name": "stdout",
          "text": [
            "x='ned'\n",
            "x='alex'\n",
            "x='jeff'\n",
            "x=3\n",
            "x='3'\n",
            "x=12.5\n"
          ]
        }
      ]
    },
    {
      "cell_type": "code",
      "source": [
        "for x in sorted(d1.keys()):\n",
        "  print(f'{x=}')\n",
        "  # Can't sort these because the dictionary has numbers and words"
      ],
      "metadata": {
        "colab": {
          "base_uri": "https://localhost:8080/",
          "height": 181
        },
        "id": "tC5Fw1XuGv1K",
        "outputId": "75234f30-1057-47ad-f5b5-0748e41fd297"
      },
      "execution_count": 75,
      "outputs": [
        {
          "output_type": "error",
          "ename": "TypeError",
          "evalue": "'<' not supported between instances of 'int' and 'str'",
          "traceback": [
            "\u001b[0;31m---------------------------------------------------------------------------\u001b[0m",
            "\u001b[0;31mTypeError\u001b[0m                                 Traceback (most recent call last)",
            "\u001b[0;32m<ipython-input-75-e69e1768c75f>\u001b[0m in \u001b[0;36m<cell line: 1>\u001b[0;34m()\u001b[0m\n\u001b[0;32m----> 1\u001b[0;31m \u001b[0;32mfor\u001b[0m \u001b[0mx\u001b[0m \u001b[0;32min\u001b[0m \u001b[0msorted\u001b[0m\u001b[0;34m(\u001b[0m\u001b[0md1\u001b[0m\u001b[0;34m.\u001b[0m\u001b[0mkeys\u001b[0m\u001b[0;34m(\u001b[0m\u001b[0;34m)\u001b[0m\u001b[0;34m)\u001b[0m\u001b[0;34m:\u001b[0m\u001b[0;34m\u001b[0m\u001b[0;34m\u001b[0m\u001b[0m\n\u001b[0m\u001b[1;32m      2\u001b[0m   \u001b[0mprint\u001b[0m\u001b[0;34m(\u001b[0m\u001b[0;34mf'{x=}'\u001b[0m\u001b[0;34m)\u001b[0m\u001b[0;34m\u001b[0m\u001b[0;34m\u001b[0m\u001b[0m\n\u001b[1;32m      3\u001b[0m   \u001b[0;31m# Can't sort these because the dictionary has numbers and words\u001b[0m\u001b[0;34m\u001b[0m\u001b[0;34m\u001b[0m\u001b[0m\n",
            "\u001b[0;31mTypeError\u001b[0m: '<' not supported between instances of 'int' and 'str'"
          ]
        }
      ]
    },
    {
      "cell_type": "code",
      "source": [
        "del d1['3']\n",
        "del d1[12.5]\n",
        "print(d1)"
      ],
      "metadata": {
        "colab": {
          "base_uri": "https://localhost:8080/"
        },
        "id": "PQInQ3fUHE4x",
        "outputId": "f31c2ae9-d1ad-49c6-addb-0371365fc03a"
      },
      "execution_count": 76,
      "outputs": [
        {
          "output_type": "stream",
          "name": "stdout",
          "text": [
            "{'ned': [518, 61], 'alex': [802, 31], 'jeff': 617, 3: 12345}\n"
          ]
        }
      ]
    },
    {
      "cell_type": "code",
      "source": [
        "for x in sorted(d1.keys()):\n",
        "  print(f'{x=}')"
      ],
      "metadata": {
        "colab": {
          "base_uri": "https://localhost:8080/",
          "height": 163
        },
        "id": "Rb-XBIZHHY6j",
        "outputId": "89942a2f-306d-4bc4-cea8-ac311e595618"
      },
      "execution_count": 77,
      "outputs": [
        {
          "output_type": "error",
          "ename": "TypeError",
          "evalue": "'<' not supported between instances of 'int' and 'str'",
          "traceback": [
            "\u001b[0;31m---------------------------------------------------------------------------\u001b[0m",
            "\u001b[0;31mTypeError\u001b[0m                                 Traceback (most recent call last)",
            "\u001b[0;32m<ipython-input-77-bcff1c5b940d>\u001b[0m in \u001b[0;36m<cell line: 1>\u001b[0;34m()\u001b[0m\n\u001b[0;32m----> 1\u001b[0;31m \u001b[0;32mfor\u001b[0m \u001b[0mx\u001b[0m \u001b[0;32min\u001b[0m \u001b[0msorted\u001b[0m\u001b[0;34m(\u001b[0m\u001b[0md1\u001b[0m\u001b[0;34m.\u001b[0m\u001b[0mkeys\u001b[0m\u001b[0;34m(\u001b[0m\u001b[0;34m)\u001b[0m\u001b[0;34m)\u001b[0m\u001b[0;34m:\u001b[0m\u001b[0;34m\u001b[0m\u001b[0;34m\u001b[0m\u001b[0m\n\u001b[0m\u001b[1;32m      2\u001b[0m   \u001b[0mprint\u001b[0m\u001b[0;34m(\u001b[0m\u001b[0;34mf'{x=}'\u001b[0m\u001b[0;34m)\u001b[0m\u001b[0;34m\u001b[0m\u001b[0;34m\u001b[0m\u001b[0m\n",
            "\u001b[0;31mTypeError\u001b[0m: '<' not supported between instances of 'int' and 'str'"
          ]
        }
      ]
    },
    {
      "cell_type": "code",
      "source": [
        "print(d1)"
      ],
      "metadata": {
        "colab": {
          "base_uri": "https://localhost:8080/"
        },
        "id": "n56A8mJtH7Mb",
        "outputId": "84ddc3c8-8928-4059-b898-84cadaca910b"
      },
      "execution_count": 78,
      "outputs": [
        {
          "output_type": "stream",
          "name": "stdout",
          "text": [
            "{'ned': [518, 61], 'alex': [802, 31], 'jeff': 617, 3: 12345}\n"
          ]
        }
      ]
    },
    {
      "cell_type": "code",
      "source": [
        "d1['ted'] = {'age':55, 'height': '5\\'7', 'area_code':518}"
      ],
      "metadata": {
        "id": "Q2KRoIk5H9XM"
      },
      "execution_count": 79,
      "outputs": []
    },
    {
      "cell_type": "code",
      "source": [
        "print(d1)"
      ],
      "metadata": {
        "colab": {
          "base_uri": "https://localhost:8080/"
        },
        "id": "VWUDierZIWXd",
        "outputId": "eb171815-c8d7-44e5-e24e-12deb0de746b"
      },
      "execution_count": 80,
      "outputs": [
        {
          "output_type": "stream",
          "name": "stdout",
          "text": [
            "{'ned': [518, 61], 'alex': [802, 31], 'jeff': 617, 3: 12345, 'ted': {'age': 55, 'height': \"5'7\", 'area_code': 518}}\n"
          ]
        }
      ]
    },
    {
      "cell_type": "code",
      "source": [
        "print(d1['ted']['age'])"
      ],
      "metadata": {
        "colab": {
          "base_uri": "https://localhost:8080/"
        },
        "id": "jFTMiC_0IgoA",
        "outputId": "c9319c18-1c5a-49c5-a2de-17ccfc58ec64"
      },
      "execution_count": 81,
      "outputs": [
        {
          "output_type": "stream",
          "name": "stdout",
          "text": [
            "55\n"
          ]
        }
      ]
    },
    {
      "cell_type": "code",
      "source": [
        "print(d1['ted']['area_code'])"
      ],
      "metadata": {
        "colab": {
          "base_uri": "https://localhost:8080/"
        },
        "id": "H6e8Lu4_It8e",
        "outputId": "8104d4d4-2e91-4ffd-84d5-07cfcaaec56e"
      },
      "execution_count": 82,
      "outputs": [
        {
          "output_type": "stream",
          "name": "stdout",
          "text": [
            "518\n"
          ]
        }
      ]
    },
    {
      "cell_type": "code",
      "source": [
        "print(d1['ted']['height'])"
      ],
      "metadata": {
        "colab": {
          "base_uri": "https://localhost:8080/"
        },
        "id": "592ssmYdI50U",
        "outputId": "d08d6a7e-c8f7-4dcd-d38a-02c132a5d11c"
      },
      "execution_count": 83,
      "outputs": [
        {
          "output_type": "stream",
          "name": "stdout",
          "text": [
            "5'7\n"
          ]
        }
      ]
    },
    {
      "cell_type": "code",
      "source": [
        "print(d1)"
      ],
      "metadata": {
        "colab": {
          "base_uri": "https://localhost:8080/"
        },
        "id": "-y2c8ObrI7Xr",
        "outputId": "ae183f65-1f52-4d57-ad2c-67c4c34178a5"
      },
      "execution_count": 84,
      "outputs": [
        {
          "output_type": "stream",
          "name": "stdout",
          "text": [
            "{'ned': [518, 61], 'alex': [802, 31], 'jeff': 617, 3: 12345, 'ted': {'age': 55, 'height': \"5'7\", 'area_code': 518}}\n"
          ]
        }
      ]
    },
    {
      "cell_type": "code",
      "source": [
        "d1['ted']['area_code'] = [518, 802]"
      ],
      "metadata": {
        "id": "3rx0i4TcI9vz"
      },
      "execution_count": 85,
      "outputs": []
    },
    {
      "cell_type": "code",
      "source": [
        "print(d1)"
      ],
      "metadata": {
        "colab": {
          "base_uri": "https://localhost:8080/"
        },
        "id": "iSC5KjouJIgm",
        "outputId": "d883a73e-2c01-49dd-cc1b-ce6828cb5bc4"
      },
      "execution_count": 86,
      "outputs": [
        {
          "output_type": "stream",
          "name": "stdout",
          "text": [
            "{'ned': [518, 61], 'alex': [802, 31], 'jeff': 617, 3: 12345, 'ted': {'age': 55, 'height': \"5'7\", 'area_code': [518, 802]}}\n"
          ]
        }
      ]
    },
    {
      "cell_type": "code",
      "source": [
        "print(d1['ted']['area_code'][1])"
      ],
      "metadata": {
        "colab": {
          "base_uri": "https://localhost:8080/"
        },
        "id": "xroYd4VBJKGQ",
        "outputId": "75c19e77-9898-411c-caed-73269b12186d"
      },
      "execution_count": 87,
      "outputs": [
        {
          "output_type": "stream",
          "name": "stdout",
          "text": [
            "802\n"
          ]
        }
      ]
    },
    {
      "cell_type": "code",
      "source": [],
      "metadata": {
        "id": "F5GTlKv2JcW7"
      },
      "execution_count": null,
      "outputs": []
    }
  ]
}