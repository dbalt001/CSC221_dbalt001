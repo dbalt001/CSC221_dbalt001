{
  "nbformat": 4,
  "nbformat_minor": 0,
  "metadata": {
    "colab": {
      "provenance": [],
      "authorship_tag": "ABX9TyM8yNGgy4AKtyAtN/fSJ/pn",
      "include_colab_link": true
    },
    "kernelspec": {
      "name": "python3",
      "display_name": "Python 3"
    },
    "language_info": {
      "name": "python"
    }
  },
  "cells": [
    {
      "cell_type": "markdown",
      "metadata": {
        "id": "view-in-github",
        "colab_type": "text"
      },
      "source": [
        "<a href=\"https://colab.research.google.com/github/dbalt001/CSC221_dbalt001/blob/main/Assignment5.ipynb\" target=\"_parent\"><img src=\"https://colab.research.google.com/assets/colab-badge.svg\" alt=\"Open In Colab\"/></a>"
      ]
    },
    {
      "cell_type": "code",
      "execution_count": 39,
      "metadata": {
        "colab": {
          "base_uri": "https://localhost:8080/"
        },
        "id": "QPgdHZ9em9kB",
        "outputId": "65307305-856c-469d-f46e-7159e69602c0"
      },
      "outputs": [
        {
          "output_type": "stream",
          "name": "stdout",
          "text": [
            "pepperoni is a type of pizza\n",
            "sausage is a type of pizza\n",
            "white cheddar is a type of pizza\n",
            "\n",
            "Pizza is overrated\n"
          ]
        }
      ],
      "source": [
        "# TIY 4-1\n",
        "\n",
        "pizzas = ['pepperoni', 'sausage', 'white cheddar']\n",
        "\n",
        "for types in pizzas:\n",
        "  print(f\"{types} is a type of pizza\")\n",
        "\n",
        "print(\"\\nPizza is overrated\")"
      ]
    },
    {
      "cell_type": "code",
      "source": [
        "# TIY 4-2\n",
        "#Literally the exact same as 4-1"
      ],
      "metadata": {
        "id": "RpVFPlLCq9K2"
      },
      "execution_count": 40,
      "outputs": []
    },
    {
      "cell_type": "code",
      "source": [
        "# TIY 4-3\n",
        "\n",
        "numbers = list(range(1, 21))\n",
        "print(numbers)"
      ],
      "metadata": {
        "colab": {
          "base_uri": "https://localhost:8080/"
        },
        "id": "wox2TCi1tQ6h",
        "outputId": "d435e719-617f-4908-d020-3ec35f178561"
      },
      "execution_count": 41,
      "outputs": [
        {
          "output_type": "stream",
          "name": "stdout",
          "text": [
            "[1, 2, 3, 4, 5, 6, 7, 8, 9, 10, 11, 12, 13, 14, 15, 16, 17, 18, 19, 20]\n"
          ]
        }
      ]
    },
    {
      "cell_type": "code",
      "source": [
        "# TIY 4-4 and 4-5\n",
        "\n",
        "numbers = list(range(1, 1000001))\n",
        "\n",
        "print(sum(numbers))\n",
        "\n",
        "print(min(numbers))\n",
        "\n",
        "print(max(numbers))\n"
      ],
      "metadata": {
        "colab": {
          "base_uri": "https://localhost:8080/"
        },
        "id": "NA08GvJ1tgpg",
        "outputId": "903ab4ae-d037-4941-9b23-45a20b6d34f4"
      },
      "execution_count": 42,
      "outputs": [
        {
          "output_type": "stream",
          "name": "stdout",
          "text": [
            "500000500000\n",
            "1\n",
            "1000000\n"
          ]
        }
      ]
    },
    {
      "cell_type": "code",
      "source": [
        "# TIY 4-6\n",
        "\n",
        "numbers = list(range(1, 21, 2))\n",
        "print(numbers)"
      ],
      "metadata": {
        "colab": {
          "base_uri": "https://localhost:8080/"
        },
        "id": "tN6YWqb3uJo4",
        "outputId": "09771ce8-f5fa-407f-cc93-7975fb3c766e"
      },
      "execution_count": 43,
      "outputs": [
        {
          "output_type": "stream",
          "name": "stdout",
          "text": [
            "[1, 3, 5, 7, 9, 11, 13, 15, 17, 19]\n"
          ]
        }
      ]
    },
    {
      "cell_type": "code",
      "source": [
        "# TIY 4-6\n",
        "\n",
        "for numbers in range(1, 21, 2):\n",
        "  print(numbers)"
      ],
      "metadata": {
        "colab": {
          "base_uri": "https://localhost:8080/"
        },
        "id": "LtGvHh6LuiRL",
        "outputId": "49fb0d24-5c86-42c7-c729-c0d478b71f67"
      },
      "execution_count": 44,
      "outputs": [
        {
          "output_type": "stream",
          "name": "stdout",
          "text": [
            "1\n",
            "3\n",
            "5\n",
            "7\n",
            "9\n",
            "11\n",
            "13\n",
            "15\n",
            "17\n",
            "19\n"
          ]
        }
      ]
    },
    {
      "cell_type": "code",
      "source": [
        "# TIY 4-7\n",
        "\n",
        "for numbers in range(3, 31, 3):\n",
        "  print(numbers)"
      ],
      "metadata": {
        "colab": {
          "base_uri": "https://localhost:8080/"
        },
        "id": "DqLesFb-uxT0",
        "outputId": "62d03934-245c-4426-f679-1e0e1f06672e"
      },
      "execution_count": 45,
      "outputs": [
        {
          "output_type": "stream",
          "name": "stdout",
          "text": [
            "3\n",
            "6\n",
            "9\n",
            "12\n",
            "15\n",
            "18\n",
            "21\n",
            "24\n",
            "27\n",
            "30\n"
          ]
        }
      ]
    },
    {
      "cell_type": "code",
      "source": [
        "# TIY 4-8\n",
        "\n",
        "cubes = []\n",
        "for number in range(1, 11):\n",
        "  cube = number ** 3\n",
        "  cubes.append(cube)\n",
        "\n",
        "print(cubes)"
      ],
      "metadata": {
        "colab": {
          "base_uri": "https://localhost:8080/"
        },
        "id": "MvtOPHLRvAA1",
        "outputId": "b1604345-a0df-40fe-8802-3feccf3a2ecf"
      },
      "execution_count": 46,
      "outputs": [
        {
          "output_type": "stream",
          "name": "stdout",
          "text": [
            "[1, 8, 27, 64, 125, 216, 343, 512, 729, 1000]\n"
          ]
        }
      ]
    },
    {
      "cell_type": "code",
      "source": [
        "# TIY 4-9\n",
        "\n",
        "cubes = [number**3 for number in range(1, 11)]\n",
        "print(cubes)"
      ],
      "metadata": {
        "colab": {
          "base_uri": "https://localhost:8080/"
        },
        "id": "C3FYrO3-vpSd",
        "outputId": "666cf3cc-8a26-4364-eed2-0330be4e9cda"
      },
      "execution_count": 47,
      "outputs": [
        {
          "output_type": "stream",
          "name": "stdout",
          "text": [
            "[1, 8, 27, 64, 125, 216, 343, 512, 729, 1000]\n"
          ]
        }
      ]
    },
    {
      "cell_type": "code",
      "source": [
        "# TIY 4-10\n",
        "\n",
        "numbers = list(range(1, 21))\n",
        "print(\"The first three numbers in this list are:\")\n",
        "print(numbers[0:3])\n",
        "\n",
        "print(\"\\nThe middle three numbers in the list are:\")\n",
        "print(numbers[8:11])\n",
        "\n",
        "print(\"\\nThe last three numbers in the list are:\")\n",
        "print(numbers[17:21])"
      ],
      "metadata": {
        "colab": {
          "base_uri": "https://localhost:8080/"
        },
        "id": "c-oiaB1gDKfv",
        "outputId": "6f019bbe-a0ab-4302-be01-7875a1d4b1b3"
      },
      "execution_count": 48,
      "outputs": [
        {
          "output_type": "stream",
          "name": "stdout",
          "text": [
            "The first three numbers in this list are:\n",
            "[1, 2, 3]\n",
            "\n",
            "The middle three numbers in the list are:\n",
            "[9, 10, 11]\n",
            "\n",
            "The last three numbers in the list are:\n",
            "[18, 19, 20]\n"
          ]
        }
      ]
    },
    {
      "cell_type": "code",
      "source": [
        "# TIY 4-11\n",
        "\n",
        "my_pizzas = ['pepperoni', 'sausage', 'white cheddar']\n",
        "\n",
        "friend_pizzas = my_pizzas[:]\n",
        "\n",
        "my_pizzas.append('cheeseburger')\n",
        "friend_pizzas.append('buffalo')\n",
        "\n",
        "print('Pizzas I like are:')\n",
        "for types in my_pizzas:\n",
        "  print(f\"{types}\")\n",
        "\n",
        "print('\\nPizzas my friend likes are:')\n",
        "for types in friend_pizzas:\n",
        "  print(f\"{types}\")"
      ],
      "metadata": {
        "colab": {
          "base_uri": "https://localhost:8080/"
        },
        "id": "-StmXeKQEQuj",
        "outputId": "7c05c583-b1e3-4e52-b75c-a2c1affd8926"
      },
      "execution_count": 49,
      "outputs": [
        {
          "output_type": "stream",
          "name": "stdout",
          "text": [
            "Pizzas I like are:\n",
            "pepperoni\n",
            "sausage\n",
            "white cheddar\n",
            "cheeseburger\n",
            "\n",
            "Pizzas my friend likes are:\n",
            "pepperoni\n",
            "sausage\n",
            "white cheddar\n",
            "buffalo\n"
          ]
        }
      ]
    },
    {
      "cell_type": "code",
      "source": [
        "# TIY 4-12\n",
        "\n",
        "my_foods = ['pizza', 'flalfel', 'carrot cake']\n",
        "friend_foods = my_foods[:]\n",
        "\n",
        "my_foods.append('cannoli')\n",
        "friend_foods.append('ice cream')\n",
        "\n",
        "for favs in my_foods:\n",
        "  print(f\"I really enjoy {favs}\")\n",
        "\n",
        "for favs in friend_foods:\n",
        "  print(f\"My friend really enjoys {favs}\")\n",
        "\n"
      ],
      "metadata": {
        "colab": {
          "base_uri": "https://localhost:8080/"
        },
        "id": "JbPYEAOuGH0E",
        "outputId": "834925ab-f53e-4f58-f1ba-cbc62141a84d"
      },
      "execution_count": 50,
      "outputs": [
        {
          "output_type": "stream",
          "name": "stdout",
          "text": [
            "I really enjoy pizza\n",
            "I really enjoy flalfel\n",
            "I really enjoy carrot cake\n",
            "I really enjoy cannoli\n",
            "My friend really enjoys pizza\n",
            "My friend really enjoys flalfel\n",
            "My friend really enjoys carrot cake\n",
            "My friend really enjoys ice cream\n"
          ]
        }
      ]
    },
    {
      "cell_type": "code",
      "source": [
        "# TIY 4-13\n",
        "\n",
        "menu_item = ['chicken', 'beef', 'ham', 'shrimp', 'turkey']\n",
        "\n",
        "print(\"Our menu includes:\")\n",
        "for item in menu_item:\n",
        "  print(f\"{item}\")\n",
        "\n",
        "new_menu = ['chicken', 'beef', 'ham', 'cheese', 'tofu']\n",
        "print(\"\\nOur menu includes:\")\n",
        "for item in new_menu:\n",
        "  print(f\"{item}\")"
      ],
      "metadata": {
        "colab": {
          "base_uri": "https://localhost:8080/"
        },
        "id": "sHuaQv4MHhru",
        "outputId": "3bc5c03e-e089-4f82-c02d-ea7c95ea8ead"
      },
      "execution_count": 51,
      "outputs": [
        {
          "output_type": "stream",
          "name": "stdout",
          "text": [
            "Our menu includes:\n",
            "chicken\n",
            "beef\n",
            "ham\n",
            "shrimp\n",
            "turkey\n",
            "\n",
            "Our menu includes:\n",
            "chicken\n",
            "beef\n",
            "ham\n",
            "cheese\n",
            "tofu\n"
          ]
        }
      ]
    },
    {
      "cell_type": "code",
      "source": [
        "# Factorial Function\n",
        "\n",
        "def factorial(n):\n",
        "  my_list = []\n",
        "  product = 1\n",
        "\n",
        "  for x in range(1, n+1):\n",
        "    product = product * x\n",
        "    my_list.append(product)\n",
        "  return product\n",
        "\n",
        "print(factorial(5))\n",
        "print(factorial(10))\n",
        "print(factorial(20))\n",
        "print(factorial(50))"
      ],
      "metadata": {
        "colab": {
          "base_uri": "https://localhost:8080/"
        },
        "id": "UCLcyRxDKyf0",
        "outputId": "67242b06-3431-401a-b2e6-86fa09b7859c"
      },
      "execution_count": 52,
      "outputs": [
        {
          "output_type": "stream",
          "name": "stdout",
          "text": [
            "120\n",
            "3628800\n",
            "2432902008176640000\n",
            "30414093201713378043612608166064768844377641568960512000000000000\n"
          ]
        }
      ]
    },
    {
      "cell_type": "code",
      "source": [
        "# Factorial Function without 4, 13, and 22\n",
        "''' It's very possible I am doing this wrong, but looking at this one and the code below this part of me thinks that I am not supposed to get the answers shown on the Brightspace.'''\n",
        "''' So if this is wrong I'd like to know what to do to fix it, but based off this code there isn't anything there for 4, 13, or 22 for me.'''\n",
        "''' I just don't know if you'd be sneaky enough to do something like that either. '''\n",
        "\n",
        "\n",
        "def special_factorial(n):\n",
        "  my_list = []\n",
        "  product = 1\n",
        "\n",
        "  for x in range(1, n+1):\n",
        "    if n == 4:\n",
        "      my_list.remove(4)\n",
        "    if n == 13:\n",
        "      my_list.remove(13)\n",
        "    if n == 22:\n",
        "      my_list.remove(22)\n",
        "    product = product * x\n",
        "    my_list.append(product)\n",
        "  return product\n",
        "\n",
        "print(special_factorial(5))\n",
        "print(special_factorial(10))\n",
        "print(special_factorial(20))\n",
        "print(special_factorial(50))"
      ],
      "metadata": {
        "colab": {
          "base_uri": "https://localhost:8080/"
        },
        "id": "D7_IwDdOWQ9K",
        "outputId": "c439ca01-3d1a-4c54-b040-cb4653d0d3ba"
      },
      "execution_count": 53,
      "outputs": [
        {
          "output_type": "stream",
          "name": "stdout",
          "text": [
            "120\n",
            "3628800\n",
            "2432902008176640000\n",
            "30414093201713378043612608166064768844377641568960512000000000000\n"
          ]
        }
      ]
    },
    {
      "cell_type": "code",
      "source": [
        "def special_factorial(n):\n",
        "  my_list = []\n",
        "  product = 1\n",
        "\n",
        "  for x in range(1, n+1):\n",
        "    my_list.append(x)\n",
        "    if n >= 4 and 4 in my_list:\n",
        "      my_list.remove(4)\n",
        "    if n >= 13 and 13 in my_list:\n",
        "      my_list.remove(13)\n",
        "    if n >= 22 and 22 in my_list:\n",
        "      my_list.remove(22)\n",
        "    product = product * x\n",
        "    my_list.append(product)\n",
        "  return product\n",
        "\n",
        "print(special_factorial(5))\n",
        "print(special_factorial(10))\n",
        "print(special_factorial(20))\n",
        "print(special_factorial(50))"
      ],
      "metadata": {
        "colab": {
          "base_uri": "https://localhost:8080/"
        },
        "id": "86PMknYHAOYD",
        "outputId": "813a75b5-d266-4bac-ede8-2af93e3d33c8"
      },
      "execution_count": 54,
      "outputs": [
        {
          "output_type": "stream",
          "name": "stdout",
          "text": [
            "120\n",
            "3628800\n",
            "2432902008176640000\n",
            "30414093201713378043612608166064768844377641568960512000000000000\n"
          ]
        }
      ]
    }
  ]
}