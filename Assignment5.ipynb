{
  "nbformat": 4,
  "nbformat_minor": 0,
  "metadata": {
    "colab": {
      "provenance": [],
      "authorship_tag": "ABX9TyOcXCnoDv/atL66PJPqJitC",
      "include_colab_link": true
    },
    "kernelspec": {
      "name": "python3",
      "display_name": "Python 3"
    },
    "language_info": {
      "name": "python"
    }
  },
  "cells": [
    {
      "cell_type": "markdown",
      "metadata": {
        "id": "view-in-github",
        "colab_type": "text"
      },
      "source": [
        "<a href=\"https://colab.research.google.com/github/dbalt001/CSC221_dbalt001/blob/main/Assignment5.ipynb\" target=\"_parent\"><img src=\"https://colab.research.google.com/assets/colab-badge.svg\" alt=\"Open In Colab\"/></a>"
      ]
    },
    {
      "cell_type": "code",
      "execution_count": 6,
      "metadata": {
        "colab": {
          "base_uri": "https://localhost:8080/"
        },
        "id": "QPgdHZ9em9kB",
        "outputId": "a3d21b1a-5839-4775-af1d-9c8eaf504a42"
      },
      "outputs": [
        {
          "output_type": "stream",
          "name": "stdout",
          "text": [
            "pepperoni is a type of pizza\n",
            "sausage is a type of pizza\n",
            "white cheddar is a type of pizza\n",
            "\n",
            "Pizza is overrated\n"
          ]
        }
      ],
      "source": [
        "# TIY 4-1\n",
        "\n",
        "pizzas = ['pepperoni', 'sausage', 'white cheddar']\n",
        "\n",
        "for types in pizzas:\n",
        "  print(f\"{types} is a type of pizza\")\n",
        "\n",
        "print(\"\\nPizza is overrated\")"
      ]
    },
    {
      "cell_type": "code",
      "source": [
        "# TIY 4-2\n",
        "#Literally the exact same as 4-1"
      ],
      "metadata": {
        "id": "RpVFPlLCq9K2"
      },
      "execution_count": null,
      "outputs": []
    },
    {
      "cell_type": "code",
      "source": [
        "# TIY 4-3\n",
        "\n",
        "numbers = list(range(1, 21))\n",
        "print(numbers)"
      ],
      "metadata": {
        "colab": {
          "base_uri": "https://localhost:8080/"
        },
        "id": "wox2TCi1tQ6h",
        "outputId": "c37f122c-cb8d-4429-9964-e772a71417da"
      },
      "execution_count": 7,
      "outputs": [
        {
          "output_type": "stream",
          "name": "stdout",
          "text": [
            "[1, 2, 3, 4, 5, 6, 7, 8, 9, 10, 11, 12, 13, 14, 15, 16, 17, 18, 19, 20]\n"
          ]
        }
      ]
    },
    {
      "cell_type": "code",
      "source": [
        "# TIY 4-4 and 4-5\n",
        "\n",
        "numbers = list(range(1, 1000001))\n",
        "\n",
        "print(sum(numbers))\n",
        "\n",
        "print(min(numbers))\n",
        "\n",
        "print(max(numbers))\n"
      ],
      "metadata": {
        "colab": {
          "base_uri": "https://localhost:8080/"
        },
        "id": "NA08GvJ1tgpg",
        "outputId": "26b6f2bd-8a3a-4521-8e40-365679728c6a"
      },
      "execution_count": 12,
      "outputs": [
        {
          "output_type": "stream",
          "name": "stdout",
          "text": [
            "500000500000\n",
            "1\n",
            "1000000\n"
          ]
        }
      ]
    },
    {
      "cell_type": "code",
      "source": [
        "# TIY 4-6\n",
        "\n",
        "numbers = list(range(1, 21, 2))\n",
        "print(numbers)"
      ],
      "metadata": {
        "colab": {
          "base_uri": "https://localhost:8080/"
        },
        "id": "tN6YWqb3uJo4",
        "outputId": "3d2fadb9-6ff4-4ba0-bb07-c9bd4ff215d0"
      },
      "execution_count": 13,
      "outputs": [
        {
          "output_type": "stream",
          "name": "stdout",
          "text": [
            "[1, 3, 5, 7, 9, 11, 13, 15, 17, 19]\n"
          ]
        }
      ]
    },
    {
      "cell_type": "code",
      "source": [
        "# TIY 4-6\n",
        "\n",
        "for numbers in range(1, 21, 2):\n",
        "  print(numbers)"
      ],
      "metadata": {
        "colab": {
          "base_uri": "https://localhost:8080/"
        },
        "id": "LtGvHh6LuiRL",
        "outputId": "972e0381-4903-47e7-e28d-4c440822e098"
      },
      "execution_count": 15,
      "outputs": [
        {
          "output_type": "stream",
          "name": "stdout",
          "text": [
            "1\n",
            "3\n",
            "5\n",
            "7\n",
            "9\n",
            "11\n",
            "13\n",
            "15\n",
            "17\n",
            "19\n"
          ]
        }
      ]
    },
    {
      "cell_type": "code",
      "source": [
        "# TIY 4-7\n",
        "\n",
        "for numbers in range(3, 31, 3):\n",
        "  print(numbers)"
      ],
      "metadata": {
        "colab": {
          "base_uri": "https://localhost:8080/"
        },
        "id": "DqLesFb-uxT0",
        "outputId": "35e18a71-7103-4529-b9a7-4767b2d0f996"
      },
      "execution_count": 16,
      "outputs": [
        {
          "output_type": "stream",
          "name": "stdout",
          "text": [
            "3\n",
            "6\n",
            "9\n",
            "12\n",
            "15\n",
            "18\n",
            "21\n",
            "24\n",
            "27\n",
            "30\n"
          ]
        }
      ]
    },
    {
      "cell_type": "code",
      "source": [
        "# TIY 4-8\n",
        "\n",
        "cubes = []\n",
        "for number in range(1, 11):\n",
        "  cube = number ** 3\n",
        "  cubes.append(cube)\n",
        "\n",
        "print(cubes)"
      ],
      "metadata": {
        "colab": {
          "base_uri": "https://localhost:8080/"
        },
        "id": "MvtOPHLRvAA1",
        "outputId": "8fcd96fe-f028-4902-c5bf-af1f0e15d139"
      },
      "execution_count": 17,
      "outputs": [
        {
          "output_type": "stream",
          "name": "stdout",
          "text": [
            "[1, 8, 27, 64, 125, 216, 343, 512, 729, 1000]\n"
          ]
        }
      ]
    },
    {
      "cell_type": "code",
      "source": [
        "# TIY 4-9\n",
        "\n",
        "cubes = [number**3 for number in range(1, 11)]\n",
        "print(cubes)"
      ],
      "metadata": {
        "colab": {
          "base_uri": "https://localhost:8080/"
        },
        "id": "C3FYrO3-vpSd",
        "outputId": "668b27fd-f391-42d0-d54e-f5dd05669065"
      },
      "execution_count": 18,
      "outputs": [
        {
          "output_type": "stream",
          "name": "stdout",
          "text": [
            "[1, 8, 27, 64, 125, 216, 343, 512, 729, 1000]\n"
          ]
        }
      ]
    },
    {
      "cell_type": "code",
      "source": [
        "# TIY 4-10\n",
        "\n",
        "numbers = list(range(1, 21))\n",
        "print(\"The first three numbers in this list are:\")\n",
        "print(numbers[0:3])\n",
        "\n",
        "print(\"\\nThe middle three numbers in the list are:\")\n",
        "print(numbers[8:11])\n",
        "\n",
        "print(\"\\nThe last three numbers in the list are:\")\n",
        "print(numbers[17:21])"
      ],
      "metadata": {
        "colab": {
          "base_uri": "https://localhost:8080/"
        },
        "id": "c-oiaB1gDKfv",
        "outputId": "c02468b1-ded5-462e-832c-ccc9aa6668b7"
      },
      "execution_count": 4,
      "outputs": [
        {
          "output_type": "stream",
          "name": "stdout",
          "text": [
            "The first three numbers in this list are:\n",
            "[1, 2, 3]\n",
            "\n",
            "The middle three numbers in the list are:\n",
            "[9, 10, 11]\n",
            "\n",
            "The last three numbers in the list are:\n",
            "[18, 19, 20]\n"
          ]
        }
      ]
    },
    {
      "cell_type": "code",
      "source": [
        "# TIY 4-11\n",
        "\n",
        "my_pizzas = ['pepperoni', 'sausage', 'white cheddar']\n",
        "\n",
        "friend_pizzas = my_pizzas[:]\n",
        "\n",
        "my_pizzas.append('cheeseburger')\n",
        "friend_pizzas.append('buffalo')\n",
        "\n",
        "print('Pizzas I like are:')\n",
        "for types in my_pizzas:\n",
        "  print(f\"{types}\")\n",
        "\n",
        "print('\\nPizzas my friend likes are:')\n",
        "for types in friend_pizzas:\n",
        "  print(f\"{types}\")"
      ],
      "metadata": {
        "colab": {
          "base_uri": "https://localhost:8080/"
        },
        "id": "-StmXeKQEQuj",
        "outputId": "85c6c4a5-ae7c-469f-d319-6d0a433b73ae"
      },
      "execution_count": 16,
      "outputs": [
        {
          "output_type": "stream",
          "name": "stdout",
          "text": [
            "Pizzas I like are:\n",
            "pepperoni\n",
            "sausage\n",
            "white cheddar\n",
            "cheeseburger\n",
            "\n",
            "Pizzas my friend likes are:\n",
            "pepperoni\n",
            "sausage\n",
            "white cheddar\n",
            "buffalo\n"
          ]
        }
      ]
    },
    {
      "cell_type": "code",
      "source": [
        "# TIY 4-12\n",
        "\n",
        "my_foods = ['pizza', 'flalfel', 'carrot cake']\n",
        "friend_foods = my_foods[:]\n",
        "\n",
        "my_foods.append('cannoli')\n",
        "friend_foods.append('ice cream')\n",
        "\n",
        "for favs in my_foods:\n",
        "  print(f\"I really enjoy {favs}\")\n",
        "\n",
        "for favs in friend_foods:\n",
        "  print(f\"My friend really enjoys {favs}\")\n",
        "\n"
      ],
      "metadata": {
        "colab": {
          "base_uri": "https://localhost:8080/"
        },
        "id": "JbPYEAOuGH0E",
        "outputId": "7c0aef1c-21ff-4e93-9f17-5f1fd8005d63"
      },
      "execution_count": 23,
      "outputs": [
        {
          "output_type": "stream",
          "name": "stdout",
          "text": [
            "I really enjoy pizza\n",
            "I really enjoy flalfel\n",
            "I really enjoy carrot cake\n",
            "I really enjoy cannoli\n",
            "My friend really enjoys pizza\n",
            "My friend really enjoys flalfel\n",
            "My friend really enjoys carrot cake\n",
            "My friend really enjoys ice cream\n"
          ]
        }
      ]
    },
    {
      "cell_type": "code",
      "source": [
        "# TIY 4-13\n",
        "\n",
        "menu_item = ['chicken', 'beef', 'ham', 'shrimp', 'turkey']\n",
        "\n",
        "print(\"Our menu includes:\")\n",
        "for item in menu_item:\n",
        "  print(f\"{item}\")\n",
        "\n",
        "new_menu = ['chicken', 'beef', 'ham', 'cheese', 'tofu']\n",
        "print(\"\\nOur menu includes:\")\n",
        "for item in new_menu:\n",
        "  print(f\"{item}\")"
      ],
      "metadata": {
        "colab": {
          "base_uri": "https://localhost:8080/"
        },
        "id": "sHuaQv4MHhru",
        "outputId": "08bdc8a7-c463-4f25-ba7c-4652dabe886d"
      },
      "execution_count": 30,
      "outputs": [
        {
          "output_type": "stream",
          "name": "stdout",
          "text": [
            "Our menu includes:\n",
            "chicken\n",
            "beef\n",
            "ham\n",
            "shrimp\n",
            "turkey\n",
            "\n",
            "Our menu includes:\n",
            "chicken\n",
            "beef\n",
            "ham\n",
            "cheese\n",
            "tofu\n"
          ]
        }
      ]
    }
  ]
}