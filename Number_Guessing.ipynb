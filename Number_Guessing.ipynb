{
  "nbformat": 4,
  "nbformat_minor": 0,
  "metadata": {
    "colab": {
      "provenance": [],
      "authorship_tag": "ABX9TyOejp5GHAaMf+Bcpjj5JP5W",
      "include_colab_link": true
    },
    "kernelspec": {
      "name": "python3",
      "display_name": "Python 3"
    },
    "language_info": {
      "name": "python"
    }
  },
  "cells": [
    {
      "cell_type": "markdown",
      "metadata": {
        "id": "view-in-github",
        "colab_type": "text"
      },
      "source": [
        "<a href=\"https://colab.research.google.com/github/dbalt001/CSC221_dbalt001/blob/main/Number_Guessing.ipynb\" target=\"_parent\"><img src=\"https://colab.research.google.com/assets/colab-badge.svg\" alt=\"Open In Colab\"/></a>"
      ]
    },
    {
      "cell_type": "code",
      "execution_count": 4,
      "metadata": {
        "colab": {
          "base_uri": "https://localhost:8080/"
        },
        "id": "QIuIWMHlLfgv",
        "outputId": "5164661c-582e-4184-d09c-f8b71c06faf3"
      },
      "outputs": [
        {
          "output_type": "stream",
          "name": "stdout",
          "text": [
            "I am thinking of a number 1-10\n",
            "Please guess a number 1-10: 1\n",
            "Please guess a number 1-10: 2\n",
            "Please guess a number 1-10: 3\n",
            "Please guess a number 1-10: 4\n",
            "Please guess a number 1-10: 5\n",
            "Please guess a number 1-10: 6\n",
            "Wow, you got it\n"
          ]
        }
      ],
      "source": [
        "#Number guessing game\n",
        "import random\n",
        "\n",
        "print('I am thinking of a number 1-10')\n",
        "\n",
        "num = random.randint(1, 10)\n",
        "\n",
        "while True:\n",
        "  guess = input('Please guess a number 1-10: ')\n",
        "\n",
        "  try:\n",
        "    if int(guess) == num:\n",
        "      print(\"Wow, you got it\")\n",
        "      break\n",
        "\n",
        "  except:\n",
        "    print('Bad input')"
      ]
    }
  ]
}