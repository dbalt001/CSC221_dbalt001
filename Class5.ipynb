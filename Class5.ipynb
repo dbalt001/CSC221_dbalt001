{
  "nbformat": 4,
  "nbformat_minor": 0,
  "metadata": {
    "colab": {
      "provenance": [],
      "authorship_tag": "ABX9TyMEhO0QV0Otsmp9+7B5LEIQ",
      "include_colab_link": true
    },
    "kernelspec": {
      "name": "python3",
      "display_name": "Python 3"
    },
    "language_info": {
      "name": "python"
    }
  },
  "cells": [
    {
      "cell_type": "markdown",
      "metadata": {
        "id": "view-in-github",
        "colab_type": "text"
      },
      "source": [
        "<a href=\"https://colab.research.google.com/github/dbalt001/CSC221_dbalt001/blob/main/Class5.ipynb\" target=\"_parent\"><img src=\"https://colab.research.google.com/assets/colab-badge.svg\" alt=\"Open In Colab\"/></a>"
      ]
    },
    {
      "cell_type": "code",
      "execution_count": null,
      "metadata": {
        "colab": {
          "base_uri": "https://localhost:8080/"
        },
        "id": "oBfPvpUX3-VX",
        "outputId": "ec954142-c648-4a87-adb2-24da10d75e57"
      },
      "outputs": [
        {
          "output_type": "stream",
          "name": "stdout",
          "text": [
            "hiTHIS IS THE END.1\n",
            "hey\n",
            "2\n",
            "hey\n",
            "31\n",
            "hey\n",
            "buhbye\n"
          ]
        }
      ],
      "source": [
        "print('hi', end='THIS IS THE END.')\n",
        "\n",
        "for xyz in [1, 2, 31]:\n",
        "  print(xyz)\n",
        "  print('hey')\n",
        "\n",
        "print('buhbye')"
      ]
    },
    {
      "cell_type": "code",
      "source": [
        "for character in 'hello, world!':\n",
        "  print(character)\n",
        "\n",
        "print('only once!')\n",
        "\n",
        "str = 'hi,,,there'\n",
        "print(str[0])\n",
        "print(str[4:7])"
      ],
      "metadata": {
        "colab": {
          "base_uri": "https://localhost:8080/"
        },
        "id": "TdRp7_OT80jB",
        "outputId": "e02bf3ec-34a1-48bd-9588-73d679cbb496"
      },
      "execution_count": null,
      "outputs": [
        {
          "output_type": "stream",
          "name": "stdout",
          "text": [
            "h\n",
            "e\n",
            "l\n",
            "l\n",
            "o\n",
            ",\n",
            " \n",
            "w\n",
            "o\n",
            "r\n",
            "l\n",
            "d\n",
            "!\n",
            "only once!\n",
            "h\n"
          ]
        }
      ]
    },
    {
      "cell_type": "code",
      "source": [
        "for x in range(10, 20, 3):\n",
        "  print(x)"
      ],
      "metadata": {
        "colab": {
          "base_uri": "https://localhost:8080/"
        },
        "id": "ukNABNJg-F9l",
        "outputId": "2df62f35-94ee-4d5a-f7f5-2d30dede72f0"
      },
      "execution_count": null,
      "outputs": [
        {
          "output_type": "stream",
          "name": "stdout",
          "text": [
            "10\n",
            "13\n",
            "16\n",
            "19\n"
          ]
        }
      ]
    },
    {
      "cell_type": "code",
      "source": [
        "#Make a list containing the above\n",
        "my_list = []\n",
        "for x in range(10, 20, 3):\n",
        "  my_list.append(x)\n",
        "\n",
        "print(my_list)\n"
      ],
      "metadata": {
        "colab": {
          "base_uri": "https://localhost:8080/"
        },
        "id": "SjiTtaGM-bcM",
        "outputId": "2dc34b92-ebaf-43b6-b6da-ebcd82b86749"
      },
      "execution_count": null,
      "outputs": [
        {
          "output_type": "stream",
          "name": "stdout",
          "text": [
            "[10, 13, 16, 19]\n"
          ]
        }
      ]
    },
    {
      "cell_type": "code",
      "source": [
        "# List comprehension\n",
        "my_new = [x for x in range(10, 20, 3)]\n",
        "print(my_new)"
      ],
      "metadata": {
        "colab": {
          "base_uri": "https://localhost:8080/"
        },
        "id": "7HvWV4Dn_EQW",
        "outputId": "1a00fb0e-15db-4069-c937-d421a7af7e86"
      },
      "execution_count": null,
      "outputs": [
        {
          "output_type": "stream",
          "name": "stdout",
          "text": [
            "[10, 13, 16, 19]\n"
          ]
        }
      ]
    },
    {
      "cell_type": "code",
      "source": [
        "my_list = []\n",
        "for x in range(10, 110, 10):\n",
        "  if x != 70:\n",
        "    my_list.append(x)\n",
        "\n",
        "print(my_list)"
      ],
      "metadata": {
        "colab": {
          "base_uri": "https://localhost:8080/"
        },
        "id": "uodXJVB0CCBM",
        "outputId": "c012d36c-da1d-4425-d463-109a44d9da54"
      },
      "execution_count": null,
      "outputs": [
        {
          "output_type": "stream",
          "name": "stdout",
          "text": [
            "[10, 20, 30, 40, 50, 60, 80, 90, 100]\n"
          ]
        }
      ]
    },
    {
      "cell_type": "code",
      "source": [
        "my_new2 = [x for x in range(10, 110, 10) if x != 70]\n",
        "print(my_new2)"
      ],
      "metadata": {
        "colab": {
          "base_uri": "https://localhost:8080/"
        },
        "id": "iBtLwru3CiOT",
        "outputId": "eccc2e71-c964-4262-d7ae-2c050ab0019b"
      },
      "execution_count": null,
      "outputs": [
        {
          "output_type": "stream",
          "name": "stdout",
          "text": [
            "[10, 20, 30, 40, 50, 60, 80, 90, 100]\n"
          ]
        }
      ]
    },
    {
      "cell_type": "code",
      "source": [
        "# Examples\n",
        "# Truth Tables\n",
        "# p, q, and r are variables true false\n",
        "# Print out all possible combos of p, q, and r and also p and r as well as q or r\n",
        "\n",
        "print('p\\tq\\tr\\tp_and_r\\tq_or_r')\n",
        "for p in [True, False]:\n",
        "    for q in [True, False]:\n",
        "      for r in [True, False]:\n",
        "        p_and_r = p and r\n",
        "        q_or_r = q or r\n",
        "        print(f'{p}\\t{q}\\t{r}\\t{p_and_r}\\t{q_or_r}')"
      ],
      "metadata": {
        "colab": {
          "base_uri": "https://localhost:8080/"
        },
        "id": "U16Pm3myDh6u",
        "outputId": "9babdd10-5068-4a09-e1de-c59cd1f88af8"
      },
      "execution_count": null,
      "outputs": [
        {
          "output_type": "stream",
          "name": "stdout",
          "text": [
            "p\tq\tr\tp_and_r\tq_or_r\n",
            "True\tTrue\tTrue\tTrue\tTrue\n",
            "True\tTrue\tFalse\tFalse\tTrue\n",
            "True\tFalse\tTrue\tTrue\tTrue\n",
            "True\tFalse\tFalse\tFalse\tFalse\n",
            "False\tTrue\tTrue\tFalse\tTrue\n",
            "False\tTrue\tFalse\tFalse\tTrue\n",
            "False\tFalse\tTrue\tFalse\tTrue\n",
            "False\tFalse\tFalse\tFalse\tFalse\n"
          ]
        }
      ]
    },
    {
      "cell_type": "code",
      "source": [
        "V = [True, False]\n",
        "truth_values = [(p, q, r) for p in V for q in V for r in V]\n",
        "\n",
        "print(truth_values)"
      ],
      "metadata": {
        "colab": {
          "base_uri": "https://localhost:8080/"
        },
        "id": "DrAp4SjLGHTs",
        "outputId": "58af5cb1-88f8-4bb3-d3d7-23bcaea57ca8"
      },
      "execution_count": null,
      "outputs": [
        {
          "output_type": "stream",
          "name": "stdout",
          "text": [
            "[(True, True, True), (True, True, False), (True, False, True), (True, False, False), (False, True, True), (False, True, False), (False, False, True), (False, False, False)]\n"
          ]
        }
      ]
    },
    {
      "cell_type": "code",
      "source": [
        "# Example 2\n",
        "# Clean up text file\n",
        "# Remove blank lines and line starting with # and remove leading/trailing spaces\n",
        "\n",
        "%%file input.txt\n",
        "100, 200, 300\n",
        "  200, 400, 500\n",
        "\n",
        "#200\n",
        "\n",
        "500, 600, 700"
      ],
      "metadata": {
        "colab": {
          "base_uri": "https://localhost:8080/"
        },
        "id": "4DSRL2C8Gh_P",
        "outputId": "418517b9-6154-43d2-a8be-54f538c827d2"
      },
      "execution_count": null,
      "outputs": [
        {
          "output_type": "stream",
          "name": "stdout",
          "text": [
            "Overwriting input.txt\n"
          ]
        }
      ]
    },
    {
      "cell_type": "code",
      "source": [
        "input_file = open('input.txt', 'r')\n",
        "output_file = open('output.txt', 'w')\n",
        "\n",
        "keep_going = True\n",
        "while keep_going:\n",
        "  line = input_file.readline()\n",
        "  if len(line)<1:\n",
        "    keep_going = False\n",
        "  else:\n",
        "      line = line.strip()\n",
        "\n",
        "      if len(line) > 0 and not line.startswith('#'):\n",
        "        output_file.write(line + '\\n')\n",
        "\n",
        "input_file.close()\n",
        "output_file.close()"
      ],
      "metadata": {
        "id": "j-D17ZY9HaCr"
      },
      "execution_count": null,
      "outputs": []
    },
    {
      "cell_type": "markdown",
      "source": [
        "# New Section"
      ],
      "metadata": {
        "id": "kKT1yTEKG6AY"
      }
    }
  ]
}