{
  "nbformat": 4,
  "nbformat_minor": 0,
  "metadata": {
    "colab": {
      "provenance": [],
      "authorship_tag": "ABX9TyNEtGSlgkNRvCMl4EhBS0Cv",
      "include_colab_link": true
    },
    "kernelspec": {
      "name": "python3",
      "display_name": "Python 3"
    },
    "language_info": {
      "name": "python"
    }
  },
  "cells": [
    {
      "cell_type": "markdown",
      "metadata": {
        "id": "view-in-github",
        "colab_type": "text"
      },
      "source": [
        "<a href=\"https://colab.research.google.com/github/dbalt001/CSC221_dbalt001/blob/main/Assignment4.ipynb\" target=\"_parent\"><img src=\"https://colab.research.google.com/assets/colab-badge.svg\" alt=\"Open In Colab\"/></a>"
      ]
    },
    {
      "cell_type": "code",
      "execution_count": 6,
      "metadata": {
        "colab": {
          "base_uri": "https://localhost:8080/"
        },
        "id": "oM1-z8ZQEzR4",
        "outputId": "03b6cec4-bcca-4529-a349-b95243bb7e25"
      },
      "outputs": [
        {
          "output_type": "stream",
          "name": "stdout",
          "text": [
            "ocean\n",
            "sky\n"
          ]
        }
      ],
      "source": [
        "blue = ['teal', 'ocean', 'sky', 'violets', 'water', 'eyes']\n",
        "print(blue[1])\n",
        "print(blue[2])"
      ]
    },
    {
      "cell_type": "code",
      "source": [
        "# TIY 3-1\n",
        "\n",
        "names = ['rob', 'bob', 'hob', 'lob', 'dob', 'frank']\n",
        "print(names[0])\n",
        "print(names[1])\n",
        "print(names[2])\n",
        "print(names[3])\n",
        "print(names[4])\n",
        "print(names[5])"
      ],
      "metadata": {
        "colab": {
          "base_uri": "https://localhost:8080/"
        },
        "id": "QCd6NeIZGzto",
        "outputId": "e4b789b4-8641-414c-e679-655223f0a4da"
      },
      "execution_count": 7,
      "outputs": [
        {
          "output_type": "stream",
          "name": "stdout",
          "text": [
            "rob\n",
            "bob\n",
            "hob\n",
            "lob\n",
            "dob\n",
            "frank\n"
          ]
        }
      ]
    },
    {
      "cell_type": "code",
      "source": [
        "# TIY 3-2\n",
        "\n",
        "names = ['rob', 'bob', 'hob', 'lob', 'dob', 'frank']\n",
        "print(f\"{names[0]} smells like eggs\")\n",
        "print(f\"{names[1]} smells like eggs\")\n",
        "print(f\"{names[2]} smells like eggs\")\n",
        "print(f\"{names[3]} smells like eggs\")\n",
        "print(f\"{names[4]} smells like eggs\")\n",
        "print(f\"{names[5]} smells like eggs\")"
      ],
      "metadata": {
        "colab": {
          "base_uri": "https://localhost:8080/"
        },
        "id": "9sVp2pq3HZS1",
        "outputId": "09141c57-b8dc-4ca5-ca47-de88d51c54a2"
      },
      "execution_count": 9,
      "outputs": [
        {
          "output_type": "stream",
          "name": "stdout",
          "text": [
            "rob smells like eggs\n",
            "bob smells like eggs\n",
            "hob smells like eggs\n",
            "lob smells like eggs\n",
            "dob smells like eggs\n",
            "frank smells like eggs\n"
          ]
        }
      ]
    },
    {
      "cell_type": "code",
      "source": [
        "# TIY 3-3\n",
        "\n",
        "transports = ['General Dynamics F-111', 'Convair B-36 Peacemaker', 'Lockheed SR-71', 'Boeing 747']\n",
        "print(f\"I sure would enjoy having a {transports[1]}\")\n",
        "print(f\"Man, life sure would be better with a {transports[0]}\")\n",
        "print(f\"I don't know anyone who wouldn't want a {transports[3]}\")"
      ],
      "metadata": {
        "colab": {
          "base_uri": "https://localhost:8080/"
        },
        "id": "LO0cQDpJID_T",
        "outputId": "983308ca-becb-4c81-8232-dadd9630b4cd"
      },
      "execution_count": 11,
      "outputs": [
        {
          "output_type": "stream",
          "name": "stdout",
          "text": [
            "I sure would enjoy having a Convair B-36 Peacemaker\n",
            "Man, life sure would be better with a General Dynamics F-111\n",
            "I don't know anyone who wouldn't want a Boeing 747\n"
          ]
        }
      ]
    },
    {
      "cell_type": "code",
      "source": [
        "# TIY 3-4\n",
        "\n",
        "guests = ['Nixon', 'George Washington', 'Alexander the Great']\n",
        "\n",
        "print(f\"Please accept this invite, Mr. {guests[0]}\")\n",
        "print(f\"Please accept this invite, Mr. {guests[1]}\")\n",
        "print(f\"Please accept this invite, Mr. {guests[2]}\")"
      ],
      "metadata": {
        "colab": {
          "base_uri": "https://localhost:8080/"
        },
        "id": "-vqlqJMSJKSS",
        "outputId": "4fef5d8a-a964-4c97-fcdd-c45f5122fe5e"
      },
      "execution_count": 12,
      "outputs": [
        {
          "output_type": "stream",
          "name": "stdout",
          "text": [
            "Please accept this invite, Mr. Nixon\n",
            "Please accept this invite, Mr. George Washington\n",
            "Please accept this invite, Mr. Alexander the Great\n"
          ]
        }
      ]
    },
    {
      "cell_type": "code",
      "source": [
        "# TIY 3-5\n",
        "\n",
        "guests = ['Nixon', 'George Washington', 'Alexander the Great']\n",
        "\n",
        "print(f\"Please accept this invite, Mr. {guests[0]}\")\n",
        "print(f\"Please accept this invite, Mr. {guests[1]}\")\n",
        "print(f\"Please accept this invite, Mr. {guests[2]}\")\n",
        "\n",
        "print('It seems Nixon could not make it tonight, he got caught up in something')\n",
        "\n",
        "new_guest = 'Richard the Lionheart, former King of England'\n",
        "guests[0] = new_guest\n",
        "\n",
        "print(f\"Please accept this invite, Mr. {guests[0]}\")\n",
        "print(f\"Please accept this invite, Mr. {guests[1]}\")\n",
        "print(f\"Please accept this invite, Mr. {guests[2]}\")"
      ],
      "metadata": {
        "colab": {
          "base_uri": "https://localhost:8080/"
        },
        "id": "LTSS75vfMt1D",
        "outputId": "8e55f0b8-34bc-474a-e561-4aaa054e4667"
      },
      "execution_count": 15,
      "outputs": [
        {
          "output_type": "stream",
          "name": "stdout",
          "text": [
            "Please accept this invite, Mr. Nixon\n",
            "Please accept this invite, Mr. George Washington\n",
            "Please accept this invite, Mr. Alexander the Great\n",
            "It seems Nixon could not make it tonight, he got caught up in something\n",
            "Please accept this invite, Mr. Richard the Lionheart, former King of England\n",
            "Please accept this invite, Mr. George Washington\n",
            "Please accept this invite, Mr. Alexander the Great\n"
          ]
        }
      ]
    },
    {
      "cell_type": "code",
      "source": [
        "# TIY 3-6\n",
        "\n",
        "guests = ['Nixon', 'George Washington', 'Alexander the Great']\n",
        "\n",
        "print(f\"Please accept this invite, Mr. {guests[0]}\")\n",
        "print(f\"Please accept this invite, Mr. {guests[1]}\")\n",
        "print(f\"Please accept this invite, Mr. {guests[2]}\")\n",
        "\n",
        "print('It seems Nixon could not make it tonight, he got caught up in something')\n",
        "\n",
        "new_guest = 'Richard the Lionheart, former King of England'\n",
        "guests[0] = new_guest\n",
        "\n",
        "print(f\"Please accept this invite, Mr. {guests[0]}\")\n",
        "print(f\"Please accept this invite, Mr. {guests[1]}\")\n",
        "print(f\"Please accept this invite, Mr. {guests[2]}\")\n",
        "\n",
        "print(\"It would seem Ikea had an even bigger table available\")\n",
        "next_guest1 = 'Spongebob Squarepants'\n",
        "next_guest2 = 'Emperor Palpatine'\n",
        "next_guest3 = 'Arthur Morgan'\n",
        "\n",
        "guests.insert(0, next_guest1)\n",
        "guests.insert(2, next_guest2)\n",
        "guests.insert(5, next_guest3)\n",
        "\n",
        "print(f\"Please accept this invite, Mr. {guests[0]}\")\n",
        "print(f\"Please accept this invite, Mr. {guests[1]}\")\n",
        "print(f\"Please accept this invite, Mr. {guests[2]}\")\n",
        "print(f\"Please accept this invite, Mr. {guests[3]}\")\n",
        "print(f\"Please accept this invite, Mr. {guests[4]}\")\n",
        "print(f\"Please accept this invite, Mr. {guests[5]}\")"
      ],
      "metadata": {
        "colab": {
          "base_uri": "https://localhost:8080/"
        },
        "id": "s-MiAEcoOOgi",
        "outputId": "7e6e06a8-36b2-484f-8698-7d41f874aa7e"
      },
      "execution_count": 20,
      "outputs": [
        {
          "output_type": "stream",
          "name": "stdout",
          "text": [
            "Please accept this invite, Mr. Nixon\n",
            "Please accept this invite, Mr. George Washington\n",
            "Please accept this invite, Mr. Alexander the Great\n",
            "It seems Nixon could not make it tonight, he got caught up in something\n",
            "Please accept this invite, Mr. Richard the Lionheart, former King of England\n",
            "Please accept this invite, Mr. George Washington\n",
            "Please accept this invite, Mr. Alexander the Great\n",
            "It would seem Ikea had an even bigger table available\n",
            "Please accept this invite, Mr. Spongebob Squarepants\n",
            "Please accept this invite, Mr. Richard the Lionheart, former King of England\n",
            "Please accept this invite, Mr. Emperor Palpatine\n",
            "Please accept this invite, Mr. George Washington\n",
            "Please accept this invite, Mr. Alexander the Great\n",
            "Please accept this invite, Mr. Arthur Morgan\n"
          ]
        }
      ]
    },
    {
      "cell_type": "code",
      "source": [
        "# TIY 3-7\n",
        "\n",
        "guests = ['Nixon', 'George Washington', 'Alexander the Great']\n",
        "\n",
        "print(guests)\n",
        "\n",
        "print(f\"\\nPlease accept this invite, Mr. {guests[0]}\")\n",
        "print(f\"Please accept this invite, Mr. {guests[1]}\")\n",
        "print(f\"Please accept this invite, Mr. {guests[2]}\")\n",
        "\n",
        "print('\\nIt seems Nixon could not make it tonight, he got caught up in something')\n",
        "\n",
        "new_guest = 'Richard the Lionheart, former King of England'\n",
        "guests[0] = new_guest\n",
        "\n",
        "print(f\"\\nPlease accept this invite, Mr. {guests[0]}\")\n",
        "print(f\"Please accept this invite, Mr. {guests[1]}\")\n",
        "print(f\"Please accept this invite, Mr. {guests[2]}\")\n",
        "\n",
        "print(guests)\n",
        "\n",
        "print(\"\\nIt would seem Ikea had an even bigger table available\")\n",
        "next_guest1 = 'Spongebob Squarepants'\n",
        "next_guest2 = 'Emperor Palpatine'\n",
        "next_guest3 = 'Arthur Morgan'\n",
        "\n",
        "guests.insert(0, next_guest1)\n",
        "guests.insert(2, next_guest2)\n",
        "guests.insert(5, next_guest3)\n",
        "\n",
        "print(f\"\\nPlease accept this invite, Mr. {guests[0]}\")\n",
        "print(f\"Please accept this invite, Mr. {guests[1]}\")\n",
        "print(f\"Please accept this invite, Mr. {guests[2]}\")\n",
        "print(f\"Please accept this invite, Mr. {guests[3]}\")\n",
        "print(f\"Please accept this invite, Mr. {guests[4]}\")\n",
        "print(f\"Please accept this invite, Mr. {guests[5]}\")\n",
        "print(guests)\n",
        "\n",
        "print(\"\\nThis Ikea sucks, so now I have to uninvite the people I like the least\")\n",
        "\n",
        "print(f\"\\nSorry, but you are no longer invited {guests.pop(2)}\")\n",
        "print(f\"Sorry, but you are no longer invited {guests.pop(3)}\")\n",
        "print(f\"Sorry, but you are no longer invited {guests.pop(2)}\")\n",
        "print(f\"Sorry, but you are no longer invited {guests.pop(1)}\")\n",
        "\n",
        "print(f\"\\nCongratulations Mr. {guests[0]}, you are still welcome to dinner\")\n",
        "print(f\"Congratulations to you as well Mr. {guests[1]}, you are also still welcome to dinner\")"
      ],
      "metadata": {
        "colab": {
          "base_uri": "https://localhost:8080/"
        },
        "id": "aLJ8IXh8P9MJ",
        "outputId": "dcf2dbef-09d7-46ae-88b7-8364e902b478"
      },
      "execution_count": 52,
      "outputs": [
        {
          "output_type": "stream",
          "name": "stdout",
          "text": [
            "['Nixon', 'George Washington', 'Alexander the Great']\n",
            "\n",
            "Please accept this invite, Mr. Nixon\n",
            "Please accept this invite, Mr. George Washington\n",
            "Please accept this invite, Mr. Alexander the Great\n",
            "\n",
            "It seems Nixon could not make it tonight, he got caught up in something\n",
            "\n",
            "Please accept this invite, Mr. Richard the Lionheart, former King of England\n",
            "Please accept this invite, Mr. George Washington\n",
            "Please accept this invite, Mr. Alexander the Great\n",
            "['Richard the Lionheart, former King of England', 'George Washington', 'Alexander the Great']\n",
            "\n",
            "It would seem Ikea had an even bigger table available\n",
            "\n",
            "Please accept this invite, Mr. Spongebob Squarepants\n",
            "Please accept this invite, Mr. Richard the Lionheart, former King of England\n",
            "Please accept this invite, Mr. Emperor Palpatine\n",
            "Please accept this invite, Mr. George Washington\n",
            "Please accept this invite, Mr. Alexander the Great\n",
            "Please accept this invite, Mr. Arthur Morgan\n",
            "['Spongebob Squarepants', 'Richard the Lionheart, former King of England', 'Emperor Palpatine', 'George Washington', 'Alexander the Great', 'Arthur Morgan']\n",
            "\n",
            "This Ikea sucks, so now I have to uninvite the people I like the least\n",
            "\n",
            "Sorry, but you are no longer invited Emperor Palpatine\n",
            "Sorry, but you are no longer invited Alexander the Great\n",
            "Sorry, but you are no longer invited George Washington\n",
            "Sorry, but you are no longer invited Richard the Lionheart, former King of England\n",
            "\n",
            "Congratulations Mr. Spongebob Squarepants, you are still welcome to dinner\n",
            "Congratulations to you as well Mr. Arthur Morgan, you are also still welcome to dinner\n"
          ]
        }
      ]
    },
    {
      "cell_type": "code",
      "source": [
        "# TIY 3-8\n",
        "\n",
        "places = ('Japan', 'Finland', 'Australia', 'Norway', 'Germany')\n",
        "print(places)\n",
        "\n",
        "print(sorted(places))\n",
        "\n",
        "print(places)\n",
        "\n",
        "print(sorted(places, reverse=True)) #The textbook does not say to put it as reverse=True, it says to just put it as places.reverse() which does not work here\n",
        "\n",
        "print(places)\n",
        "\n",
        "#I have bee trying for about 20 minutes to get this thing to reverse and sort and it just simply won't go no matter what I try, I have no idea what I'm doing wrong\n",
        "\n",
        "\n"
      ],
      "metadata": {
        "colab": {
          "base_uri": "https://localhost:8080/"
        },
        "id": "1NlaGK8aULYN",
        "outputId": "df6c4d82-5f13-4c7d-9d16-593935139a9d"
      },
      "execution_count": 95,
      "outputs": [
        {
          "output_type": "stream",
          "name": "stdout",
          "text": [
            "('Japan', 'Finland', 'Australia', 'Norway', 'Germany')\n",
            "['Australia', 'Finland', 'Germany', 'Japan', 'Norway']\n",
            "('Japan', 'Finland', 'Australia', 'Norway', 'Germany')\n",
            "['Norway', 'Japan', 'Germany', 'Finland', 'Australia']\n",
            "('Japan', 'Finland', 'Australia', 'Norway', 'Germany')\n"
          ]
        }
      ]
    },
    {
      "cell_type": "code",
      "source": [
        "# TIY 3-9\n",
        "\n",
        "guests = ['Nixon', 'George Washington', 'Alexander the Great']\n",
        "\n",
        "print(guests)\n",
        "\n",
        "print(f\"\\nPlease accept this invite, Mr. {guests[0]}\")\n",
        "print(f\"Please accept this invite, Mr. {guests[1]}\")\n",
        "print(f\"Please accept this invite, Mr. {guests[2]}\")\n",
        "\n",
        "print('\\nIt seems Nixon could not make it tonight, he got caught up in something')\n",
        "\n",
        "new_guest = 'Richard the Lionheart, former King of England'\n",
        "guests[0] = new_guest\n",
        "\n",
        "print(f\"\\nPlease accept this invite, Mr. {guests[0]}\")\n",
        "print(f\"Please accept this invite, Mr. {guests[1]}\")\n",
        "print(f\"Please accept this invite, Mr. {guests[2]}\")\n",
        "\n",
        "print(guests)\n",
        "\n",
        "print(\"\\nIt would seem Ikea had an even bigger table available\")\n",
        "next_guest1 = 'Spongebob Squarepants'\n",
        "next_guest2 = 'Emperor Palpatine'\n",
        "next_guest3 = 'Arthur Morgan'\n",
        "\n",
        "guests.insert(0, next_guest1)\n",
        "guests.insert(2, next_guest2)\n",
        "guests.insert(5, next_guest3)\n",
        "\n",
        "print(f\"\\nPlease accept this invite, Mr. {guests[0]}\")\n",
        "print(f\"Please accept this invite, Mr. {guests[1]}\")\n",
        "print(f\"Please accept this invite, Mr. {guests[2]}\")\n",
        "print(f\"Please accept this invite, Mr. {guests[3]}\")\n",
        "print(f\"Please accept this invite, Mr. {guests[4]}\")\n",
        "print(f\"Please accept this invite, Mr. {guests[5]}\")\n",
        "print(guests)\n",
        "\n",
        "print(\"\\nThis Ikea sucks, so now I have to uninvite the people I like the least\")\n",
        "\n",
        "print(f\"\\nSorry, but you are no longer invited {guests.pop(2)}\")\n",
        "print(f\"Sorry, but you are no longer invited {guests.pop(3)}\")\n",
        "print(f\"Sorry, but you are no longer invited {guests.pop(2)}\")\n",
        "print(f\"Sorry, but you are no longer invited {guests.pop(1)}\")\n",
        "\n",
        "print(f\"\\nCongratulations Mr. {guests[0]}, you are still welcome to dinner\")\n",
        "print(f\"Congratulations to you as well Mr. {guests[1]}, you are also still welcome to dinner\")\n",
        "\n",
        "print(f\"The amount of people coming to dinner is {len(guests)}\")"
      ],
      "metadata": {
        "colab": {
          "base_uri": "https://localhost:8080/"
        },
        "id": "ogqbL6cveKIp",
        "outputId": "577d9214-d254-4d04-f8c2-515a97897003"
      },
      "execution_count": 103,
      "outputs": [
        {
          "output_type": "stream",
          "name": "stdout",
          "text": [
            "['Nixon', 'George Washington', 'Alexander the Great']\n",
            "\n",
            "Please accept this invite, Mr. Nixon\n",
            "Please accept this invite, Mr. George Washington\n",
            "Please accept this invite, Mr. Alexander the Great\n",
            "\n",
            "It seems Nixon could not make it tonight, he got caught up in something\n",
            "\n",
            "Please accept this invite, Mr. Richard the Lionheart, former King of England\n",
            "Please accept this invite, Mr. George Washington\n",
            "Please accept this invite, Mr. Alexander the Great\n",
            "['Richard the Lionheart, former King of England', 'George Washington', 'Alexander the Great']\n",
            "\n",
            "It would seem Ikea had an even bigger table available\n",
            "\n",
            "Please accept this invite, Mr. Spongebob Squarepants\n",
            "Please accept this invite, Mr. Richard the Lionheart, former King of England\n",
            "Please accept this invite, Mr. Emperor Palpatine\n",
            "Please accept this invite, Mr. George Washington\n",
            "Please accept this invite, Mr. Alexander the Great\n",
            "Please accept this invite, Mr. Arthur Morgan\n",
            "['Spongebob Squarepants', 'Richard the Lionheart, former King of England', 'Emperor Palpatine', 'George Washington', 'Alexander the Great', 'Arthur Morgan']\n",
            "\n",
            "This Ikea sucks, so now I have to uninvite the people I like the least\n",
            "\n",
            "Sorry, but you are no longer invited Emperor Palpatine\n",
            "Sorry, but you are no longer invited Alexander the Great\n",
            "Sorry, but you are no longer invited George Washington\n",
            "Sorry, but you are no longer invited Richard the Lionheart, former King of England\n",
            "\n",
            "Congratulations Mr. Spongebob Squarepants, you are still welcome to dinner\n",
            "Congratulations to you as well Mr. Arthur Morgan, you are also still welcome to dinner\n",
            "The amount of people coming to dinner is 2\n"
          ]
        }
      ]
    },
    {
      "cell_type": "code",
      "source": [
        "# TIY 3-10\n",
        "\n",
        "colors = ['blue', 'red', 'green', 'ourple', 'orange']\n",
        "\n",
        "print(colors[2])\n",
        "\n",
        "print(colors[-1])\n",
        "\n",
        "print(f\"{colors[1]} is a color that exists\")\n",
        "\n",
        "colors[3] = 'pink'\n",
        "print(colors)\n",
        "\n",
        "colors.append('yellow')\n",
        "print(colors)\n",
        "\n",
        "del colors[2]\n",
        "print(colors)\n",
        "\n",
        "popped = colors.pop(-1)\n",
        "print(colors)\n",
        "print(popped)\n",
        "\n",
        "colors.remove('orange')\n",
        "print(colors)\n",
        "\n",
        "colors.sort()\n",
        "print(colors)\n",
        "\n",
        "print(sorted(colors))\n",
        "\n",
        "colors.reverse()\n",
        "print(colors)\n",
        "\n",
        "len(colors)"
      ],
      "metadata": {
        "colab": {
          "base_uri": "https://localhost:8080/"
        },
        "id": "cZaiWtt9e8a7",
        "outputId": "c87703e3-ae2e-4805-9d16-472140e6e8a7"
      },
      "execution_count": 121,
      "outputs": [
        {
          "output_type": "stream",
          "name": "stdout",
          "text": [
            "green\n",
            "orange\n",
            "red is a color that exists\n",
            "['blue', 'red', 'green', 'pink', 'orange']\n",
            "['blue', 'red', 'green', 'pink', 'orange', 'yellow']\n",
            "['blue', 'red', 'pink', 'orange', 'yellow']\n",
            "['blue', 'red', 'pink', 'orange']\n",
            "yellow\n",
            "['blue', 'red', 'pink']\n",
            "['blue', 'pink', 'red']\n",
            "['blue', 'pink', 'red']\n",
            "['red', 'pink', 'blue']\n"
          ]
        },
        {
          "output_type": "execute_result",
          "data": {
            "text/plain": [
              "3"
            ]
          },
          "metadata": {},
          "execution_count": 121
        }
      ]
    }
  ]
}