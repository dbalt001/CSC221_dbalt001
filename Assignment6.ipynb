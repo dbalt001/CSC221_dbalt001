{
  "nbformat": 4,
  "nbformat_minor": 0,
  "metadata": {
    "colab": {
      "provenance": [],
      "authorship_tag": "ABX9TyM0WYML0LW1j7NZDTjTIuXa",
      "include_colab_link": true
    },
    "kernelspec": {
      "name": "python3",
      "display_name": "Python 3"
    },
    "language_info": {
      "name": "python"
    }
  },
  "cells": [
    {
      "cell_type": "markdown",
      "metadata": {
        "id": "view-in-github",
        "colab_type": "text"
      },
      "source": [
        "<a href=\"https://colab.research.google.com/github/dbalt001/CSC221_dbalt001/blob/main/Assignment6.ipynb\" target=\"_parent\"><img src=\"https://colab.research.google.com/assets/colab-badge.svg\" alt=\"Open In Colab\"/></a>"
      ]
    },
    {
      "cell_type": "code",
      "execution_count": 77,
      "metadata": {
        "colab": {
          "base_uri": "https://localhost:8080/"
        },
        "id": "4z5UeXMisl_e",
        "outputId": "01638edf-dc20-41d5-a62a-869e728942b8"
      },
      "outputs": [
        {
          "output_type": "stream",
          "name": "stdout",
          "text": [
            "Is fruit == 'apple?' I think so\n",
            "True\n",
            "Is fruit == 'banana?' I think so\n",
            "True\n",
            "Is fruit == 'orange?' I think so\n",
            "True\n",
            "Is fruit == 'pear?' I think so\n",
            "True\n",
            "Is fruit == 'watermelon?' I think so\n",
            "True\n"
          ]
        }
      ],
      "source": [
        "# TIY 5-1\n",
        "\n",
        "fruit = 'apple'\n",
        "print(\"Is fruit == 'apple?' I think so\")\n",
        "print(fruit == 'apple')\n",
        "\n",
        "fruit = 'banana'\n",
        "print(\"Is fruit == 'banana?' I think so\")\n",
        "print(fruit == 'banana')\n",
        "\n",
        "fruit = 'orange'\n",
        "print(\"Is fruit == 'orange?' I think so\")\n",
        "print(fruit == 'orange')\n",
        "\n",
        "fruit = 'pear'\n",
        "print(\"Is fruit == 'pear?' I think so\")\n",
        "print(fruit == 'pear')\n",
        "\n",
        "fruit = 'watermelon'\n",
        "print(\"Is fruit == 'watermelon?' I think so\")\n",
        "print(fruit == 'watermelon')"
      ]
    },
    {
      "cell_type": "code",
      "source": [
        "# TIY 5-1 part 2, False Statements\n",
        "\n",
        "fruit = 'apple'\n",
        "print(\"Is fruit == 'orange?' I don't think so\")\n",
        "print(fruit == 'orange')\n",
        "\n",
        "fruit = 'orange'\n",
        "print(\"Is fruit == 'banana?' I don't think so\")\n",
        "print(fruit == 'banana')\n",
        "\n",
        "fruit = 'banana'\n",
        "print(\"Is fruit == 'grape?' I don't think so\")\n",
        "print(fruit == 'grape')\n",
        "\n",
        "fruit = 'watermelon'\n",
        "print(\"Is fruit == 'peach?' I don't think so\")\n",
        "print(fruit == 'peach')\n",
        "\n",
        "fruit = 'avocado'\n",
        "print(\"Is fruit == 'George Washington?' I don't think so\")\n",
        "print(fruit == 'George Washington')"
      ],
      "metadata": {
        "colab": {
          "base_uri": "https://localhost:8080/"
        },
        "id": "1epO95E4vQAG",
        "outputId": "97bdf01b-4f72-4dca-a13a-2587d1d08675"
      },
      "execution_count": 78,
      "outputs": [
        {
          "output_type": "stream",
          "name": "stdout",
          "text": [
            "Is fruit == 'orange?' I don't think so\n",
            "False\n",
            "Is fruit == 'banana?' I don't think so\n",
            "False\n",
            "Is fruit == 'grape?' I don't think so\n",
            "False\n",
            "Is fruit == 'peach?' I don't think so\n",
            "False\n",
            "Is fruit == 'George Washington?' I don't think so\n",
            "False\n"
          ]
        }
      ]
    },
    {
      "cell_type": "code",
      "source": [
        "# TIY 5-2 equality\n",
        "\n",
        "fruit = 'banana'\n",
        "fruit == 'banana'"
      ],
      "metadata": {
        "colab": {
          "base_uri": "https://localhost:8080/"
        },
        "id": "GD373WwAvurA",
        "outputId": "9b252a23-059d-44ba-d106-1ef7d589db57"
      },
      "execution_count": 79,
      "outputs": [
        {
          "output_type": "execute_result",
          "data": {
            "text/plain": [
              "True"
            ]
          },
          "metadata": {},
          "execution_count": 79
        }
      ]
    },
    {
      "cell_type": "code",
      "source": [
        "# TIY 5-2 inequality\n",
        "\n",
        "fruit = 'orange'\n",
        "fruit != 'blueberry'"
      ],
      "metadata": {
        "colab": {
          "base_uri": "https://localhost:8080/"
        },
        "id": "Unmcit0IwBCK",
        "outputId": "6d052503-a916-43e3-b482-d809580398a6"
      },
      "execution_count": 80,
      "outputs": [
        {
          "output_type": "execute_result",
          "data": {
            "text/plain": [
              "True"
            ]
          },
          "metadata": {},
          "execution_count": 80
        }
      ]
    },
    {
      "cell_type": "code",
      "source": [
        "# TIY 5-2 lower()\n",
        "\n",
        "president = 'George Washington'\n",
        "president.lower() == 'george washington'"
      ],
      "metadata": {
        "colab": {
          "base_uri": "https://localhost:8080/"
        },
        "id": "tn46p3KVwdxi",
        "outputId": "91c95c87-cccd-4d23-a978-127f4b45f5f4"
      },
      "execution_count": 81,
      "outputs": [
        {
          "output_type": "execute_result",
          "data": {
            "text/plain": [
              "True"
            ]
          },
          "metadata": {},
          "execution_count": 81
        }
      ]
    },
    {
      "cell_type": "code",
      "source": [
        "# TIY 5-2\n",
        "\n",
        "num = 7\n",
        "\n",
        "num < 9"
      ],
      "metadata": {
        "colab": {
          "base_uri": "https://localhost:8080/"
        },
        "id": "DgmSEGumwsox",
        "outputId": "ed63ec2a-5abe-4a5b-a14d-42e9d8314a5e"
      },
      "execution_count": 82,
      "outputs": [
        {
          "output_type": "execute_result",
          "data": {
            "text/plain": [
              "True"
            ]
          },
          "metadata": {},
          "execution_count": 82
        }
      ]
    },
    {
      "cell_type": "code",
      "source": [
        "# TIY 5-2\n",
        "\n",
        "num = 7\n",
        "\n",
        "num > 9"
      ],
      "metadata": {
        "colab": {
          "base_uri": "https://localhost:8080/"
        },
        "id": "Syv2bLG_w571",
        "outputId": "8b9a0ee0-3d5d-4a3b-fbde-31444737e953"
      },
      "execution_count": 83,
      "outputs": [
        {
          "output_type": "execute_result",
          "data": {
            "text/plain": [
              "False"
            ]
          },
          "metadata": {},
          "execution_count": 83
        }
      ]
    },
    {
      "cell_type": "code",
      "source": [
        "# TIY 5-2\n",
        "\n",
        "num = 7\n",
        "\n",
        "num != 5"
      ],
      "metadata": {
        "colab": {
          "base_uri": "https://localhost:8080/"
        },
        "id": "Oa_n405txOTm",
        "outputId": "f8accd07-6db2-4bc7-baa8-b8e1a77c8ba4"
      },
      "execution_count": 84,
      "outputs": [
        {
          "output_type": "execute_result",
          "data": {
            "text/plain": [
              "True"
            ]
          },
          "metadata": {},
          "execution_count": 84
        }
      ]
    },
    {
      "cell_type": "code",
      "source": [
        "# TIY 5-2\n",
        "\n",
        "num = 7\n",
        "\n",
        "num == 7"
      ],
      "metadata": {
        "colab": {
          "base_uri": "https://localhost:8080/"
        },
        "id": "quneKbbhxTWl",
        "outputId": "e31a08d8-75a7-4666-f1fa-7760840620c2"
      },
      "execution_count": 85,
      "outputs": [
        {
          "output_type": "execute_result",
          "data": {
            "text/plain": [
              "True"
            ]
          },
          "metadata": {},
          "execution_count": 85
        }
      ]
    },
    {
      "cell_type": "code",
      "source": [
        "# TIY 5-2\n",
        "\n",
        "num = 7\n",
        "\n",
        "num <= 6"
      ],
      "metadata": {
        "colab": {
          "base_uri": "https://localhost:8080/"
        },
        "id": "fWURMnpXxYq8",
        "outputId": "52ba6fcf-2fb0-47a2-a4ec-61367db3ba2e"
      },
      "execution_count": 86,
      "outputs": [
        {
          "output_type": "execute_result",
          "data": {
            "text/plain": [
              "False"
            ]
          },
          "metadata": {},
          "execution_count": 86
        }
      ]
    },
    {
      "cell_type": "code",
      "source": [
        "# TIY 5-2\n",
        "\n",
        "num = 7\n",
        "\n",
        "num >= 6"
      ],
      "metadata": {
        "colab": {
          "base_uri": "https://localhost:8080/"
        },
        "id": "XeS_eSUexhqP",
        "outputId": "b256ba65-0eed-4806-aabf-c9593d117764"
      },
      "execution_count": 87,
      "outputs": [
        {
          "output_type": "execute_result",
          "data": {
            "text/plain": [
              "True"
            ]
          },
          "metadata": {},
          "execution_count": 87
        }
      ]
    },
    {
      "cell_type": "code",
      "source": [
        "# TIY 5-3\n",
        "\n",
        "alien_color = ('green', 'yellow', 'red')\n",
        "\n",
        "if 'green' in alien_color:\n",
        "  print('5 Points!')"
      ],
      "metadata": {
        "colab": {
          "base_uri": "https://localhost:8080/"
        },
        "id": "ByOaC3RuxlDN",
        "outputId": "dfbbea3b-4afe-4017-9b89-969814a4f431"
      },
      "execution_count": 88,
      "outputs": [
        {
          "output_type": "stream",
          "name": "stdout",
          "text": [
            "5 Points!\n"
          ]
        }
      ]
    },
    {
      "cell_type": "code",
      "source": [
        "# TIY 5-3\n",
        "\n",
        "alien_color = ('green', 'yellow', 'red')\n",
        "\n",
        "if 'blue' in alien_color:\n",
        "  print('5 Points!')"
      ],
      "metadata": {
        "id": "x0i2HXrsyel4"
      },
      "execution_count": 89,
      "outputs": []
    },
    {
      "cell_type": "code",
      "source": [
        "# TIY 5-6\n",
        "\n",
        "age = 76\n",
        "\n",
        "if age < 2:\n",
        "  print(\"You are a baby\")\n",
        "\n",
        "elif 2 < age < 4:\n",
        "  print(\"You are a toddler\")\n",
        "\n",
        "elif 4 < age < 13:\n",
        "  print(\"You are a kid\")\n",
        "\n",
        "elif 13 < age < 20:\n",
        "  print(\"You are a teenager\")\n",
        "\n",
        "elif 20 < age < 65:\n",
        "  print(\"You are an adult\")\n",
        "\n",
        "else:\n",
        "  print(\"You are very old\")"
      ],
      "metadata": {
        "colab": {
          "base_uri": "https://localhost:8080/"
        },
        "id": "TwgpSohC0r3s",
        "outputId": "99ba4d34-a14d-4f85-ac93-d73532e66c1b"
      },
      "execution_count": 90,
      "outputs": [
        {
          "output_type": "stream",
          "name": "stdout",
          "text": [
            "You are very old\n"
          ]
        }
      ]
    },
    {
      "cell_type": "code",
      "source": [
        "# TIY 5-12\n",
        "\n",
        "#That's how I always write my code anyways"
      ],
      "metadata": {
        "id": "qJusgS-l0_XH"
      },
      "execution_count": 91,
      "outputs": []
    },
    {
      "cell_type": "code",
      "source": [
        "# TIY 5-13\n",
        "\n",
        "# Ice cream store order\n",
        "\n",
        "available_toppings = ['chocolate sprinkles', 'rainbow sprinkles', 'chocolate chips', 'M&m\\'s', 'caramel', 'chocolate syrup']\n",
        "\n",
        "requested_toppings = ['rainbow sprinkles', 'M&M\\'s', 'chocolate chips']\n",
        "\n",
        "for requested_topping in requested_toppings:\n",
        "  print(f\"Adding {requested_topping}\")\n",
        "\n",
        "print('Done')"
      ],
      "metadata": {
        "colab": {
          "base_uri": "https://localhost:8080/"
        },
        "id": "9vtz4M5r3RK8",
        "outputId": "93da45f2-b776-4079-e2eb-aa0b6627c496"
      },
      "execution_count": 92,
      "outputs": [
        {
          "output_type": "stream",
          "name": "stdout",
          "text": [
            "Adding rainbow sprinkles\n",
            "Adding M&M's\n",
            "Adding chocolate chips\n",
            "Done\n"
          ]
        }
      ]
    },
    {
      "cell_type": "code",
      "source": [
        "# A bar has an automatic ID reader at the door\n",
        "\n",
        "age_read = 19\n",
        "\n",
        "if age_read < 21:\n",
        "  print(\"You are not allowed any alcohol\")\n",
        "else:\n",
        "  print(\"Drink what you want\")"
      ],
      "metadata": {
        "colab": {
          "base_uri": "https://localhost:8080/"
        },
        "id": "qQ4Ne2Od4bSt",
        "outputId": "65b9a1a6-5bd9-4090-91fa-c69d97033c6b"
      },
      "execution_count": 93,
      "outputs": [
        {
          "output_type": "stream",
          "name": "stdout",
          "text": [
            "You are not allowed any alcohol\n"
          ]
        }
      ]
    },
    {
      "cell_type": "code",
      "source": [
        "# Takes the temperature and says what the weather is like (in farenheit)\n",
        "\n",
        "temp = 12\n",
        "\n",
        "if temp < 32:\n",
        "  print(\"It is very cold today\")\n",
        "elif temp < 50:\n",
        "  print(\"It is rather cold today\")\n",
        "elif temp < 65:\n",
        "  print(\"It is fair weather today\")\n",
        "elif temp < 80:\n",
        "  print(\"It is warm today\")\n",
        "elif temp < 92:\n",
        "  print(\"It is hot outside\")\n",
        "else:\n",
        "  print(\"You will die if you go outside\")"
      ],
      "metadata": {
        "colab": {
          "base_uri": "https://localhost:8080/"
        },
        "id": "7zr_Bt3X5ewn",
        "outputId": "d3bc4e52-8840-4e75-a050-3a2e32209b1a"
      },
      "execution_count": 94,
      "outputs": [
        {
          "output_type": "stream",
          "name": "stdout",
          "text": [
            "It is very cold today\n"
          ]
        }
      ]
    },
    {
      "cell_type": "code",
      "source": [
        "temp = 35\n",
        "\n",
        "if temp < 32:\n",
        "  print(\"It is very cold today\")\n",
        "elif temp < 50:\n",
        "  print(\"It is rather cold today\")\n",
        "elif temp < 65:\n",
        "  print(\"It is fair weather today\")\n",
        "elif temp < 80:\n",
        "  print(\"It is warm today\")\n",
        "elif temp < 92:\n",
        "  print(\"It is hot outside\")\n",
        "else:\n",
        "  print(\"You will die if you go outside\")"
      ],
      "metadata": {
        "colab": {
          "base_uri": "https://localhost:8080/"
        },
        "id": "d5bLVvPS7AdW",
        "outputId": "7b8da002-ab1e-4d05-a564-d15e0cf5a186"
      },
      "execution_count": 95,
      "outputs": [
        {
          "output_type": "stream",
          "name": "stdout",
          "text": [
            "It is rather cold today\n"
          ]
        }
      ]
    },
    {
      "cell_type": "code",
      "source": [
        "temp = 54\n",
        "\n",
        "if temp < 32:\n",
        "  print(\"It is very cold today\")\n",
        "elif temp < 50:\n",
        "  print(\"It is rather cold today\")\n",
        "elif temp < 65:\n",
        "  print(\"It is fair weather today\")\n",
        "elif temp < 80:\n",
        "  print(\"It is warm today\")\n",
        "elif temp < 92:\n",
        "  print(\"It is hot outside\")\n",
        "else:\n",
        "  print(\"You will die if you go outside\")"
      ],
      "metadata": {
        "colab": {
          "base_uri": "https://localhost:8080/"
        },
        "id": "44ovRKSP70qp",
        "outputId": "9c249853-fa8d-4f78-96c3-f5e1dbfac877"
      },
      "execution_count": 96,
      "outputs": [
        {
          "output_type": "stream",
          "name": "stdout",
          "text": [
            "It is fair weather today\n"
          ]
        }
      ]
    },
    {
      "cell_type": "code",
      "source": [
        "temp = 67\n",
        "\n",
        "if temp < 32:\n",
        "  print(\"It is very cold today\")\n",
        "elif temp < 50:\n",
        "  print(\"It is rather cold today\")\n",
        "elif temp < 65:\n",
        "  print(\"It is fair weather today\")\n",
        "elif temp < 80:\n",
        "  print(\"It is warm today\")\n",
        "elif temp < 92:\n",
        "  print(\"It is hot outside\")\n",
        "else:\n",
        "  print(\"You will die if you go outside\")"
      ],
      "metadata": {
        "colab": {
          "base_uri": "https://localhost:8080/"
        },
        "id": "bPT5MPIW73AS",
        "outputId": "7e3319ac-82ea-424e-8d71-f400f5b57835"
      },
      "execution_count": 97,
      "outputs": [
        {
          "output_type": "stream",
          "name": "stdout",
          "text": [
            "It is warm today\n"
          ]
        }
      ]
    },
    {
      "cell_type": "code",
      "source": [
        "temp = 87\n",
        "\n",
        "if temp < 32:\n",
        "  print(\"It is very cold today\")\n",
        "elif temp < 50:\n",
        "  print(\"It is rather cold today\")\n",
        "elif temp < 65:\n",
        "  print(\"It is fair weather today\")\n",
        "elif temp < 80:\n",
        "  print(\"It is warm today\")\n",
        "elif temp < 92:\n",
        "  print(\"It is hot outside\")\n",
        "else:\n",
        "  print(\"You will die if you go outside\")"
      ],
      "metadata": {
        "colab": {
          "base_uri": "https://localhost:8080/"
        },
        "id": "r8JV_1QF75a6",
        "outputId": "f205fc22-a46d-4811-bb27-be6e3da02a7f"
      },
      "execution_count": 98,
      "outputs": [
        {
          "output_type": "stream",
          "name": "stdout",
          "text": [
            "It is hot outside\n"
          ]
        }
      ]
    },
    {
      "cell_type": "code",
      "source": [
        "temp = 95\n",
        "\n",
        "if temp < 32:\n",
        "  print(\"It is very cold today\")\n",
        "elif temp < 50:\n",
        "  print(\"It is rather cold today\")\n",
        "elif temp < 65:\n",
        "  print(\"It is fair weather today\")\n",
        "elif temp < 80:\n",
        "  print(\"It is warm today\")\n",
        "elif temp < 92:\n",
        "  print(\"It is hot outside\")\n",
        "else:\n",
        "  print(\"You will die if you go outside\")"
      ],
      "metadata": {
        "colab": {
          "base_uri": "https://localhost:8080/"
        },
        "id": "pXUT7elq7_p5",
        "outputId": "04270b57-8c48-4f25-9125-596f55fd2e89"
      },
      "execution_count": 99,
      "outputs": [
        {
          "output_type": "stream",
          "name": "stdout",
          "text": [
            "You will die if you go outside\n"
          ]
        }
      ]
    },
    {
      "cell_type": "code",
      "source": [
        "temp = 12345676543234\n",
        "\n",
        "if temp < 32:\n",
        "  print(\"It is very cold today\")\n",
        "elif temp < 50:\n",
        "  print(\"It is rather cold today\")\n",
        "elif temp < 65:\n",
        "  print(\"It is fair weather today\")\n",
        "elif temp < 80:\n",
        "  print(\"It is warm today\")\n",
        "elif temp < 92:\n",
        "  print(\"It is hot outside\")\n",
        "else:\n",
        "  print(\"You will die if you go outside\")"
      ],
      "metadata": {
        "colab": {
          "base_uri": "https://localhost:8080/"
        },
        "id": "TESeytfI78iQ",
        "outputId": "9775334e-b595-471f-ed6c-b80eb11ae7c5"
      },
      "execution_count": 100,
      "outputs": [
        {
          "output_type": "stream",
          "name": "stdout",
          "text": [
            "You will die if you go outside\n"
          ]
        }
      ]
    }
  ]
}