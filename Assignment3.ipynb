{
  "nbformat": 4,
  "nbformat_minor": 0,
  "metadata": {
    "colab": {
      "provenance": [],
      "authorship_tag": "ABX9TyOUPlRW45DV6xY5JrN5Bo0T",
      "include_colab_link": true
    },
    "kernelspec": {
      "name": "python3",
      "display_name": "Python 3"
    },
    "language_info": {
      "name": "python"
    }
  },
  "cells": [
    {
      "cell_type": "markdown",
      "metadata": {
        "id": "view-in-github",
        "colab_type": "text"
      },
      "source": [
        "<a href=\"https://colab.research.google.com/github/dbalt001/CSC221_dbalt001/blob/main/Assignment3.ipynb\" target=\"_parent\"><img src=\"https://colab.research.google.com/assets/colab-badge.svg\" alt=\"Open In Colab\"/></a>"
      ]
    },
    {
      "cell_type": "code",
      "execution_count": 1,
      "metadata": {
        "colab": {
          "base_uri": "https://localhost:8080/"
        },
        "id": "ViFethBaK-SS",
        "outputId": "b0a5d494-34cd-43d9-8e6e-4ae3e09b075b"
      },
      "outputs": [
        {
          "output_type": "stream",
          "name": "stdout",
          "text": [
            "This is a  message\n"
          ]
        }
      ],
      "source": [
        "# TIY 2-1\n",
        "#Dylan Balta, Feb 12, 2024\n",
        "#Classic print function using a value, can't get easier\n",
        "message = \"This is a  message\"\n",
        "print(message)"
      ]
    },
    {
      "cell_type": "code",
      "source": [
        "# TIY 2-2\n",
        "message = \"This is a message\"\n",
        "print(message)\n",
        "\n",
        "message = \"This is also a message\"\n",
        "print(message)"
      ],
      "metadata": {
        "colab": {
          "base_uri": "https://localhost:8080/"
        },
        "id": "Mh-B7SdzLgx5",
        "outputId": "01eb5798-a1c6-46a5-8693-f6b9e14aa501"
      },
      "execution_count": 2,
      "outputs": [
        {
          "output_type": "stream",
          "name": "stdout",
          "text": [
            "This is a message\n",
            "This is also a message\n"
          ]
        }
      ]
    },
    {
      "cell_type": "code",
      "source": [
        "# TIY 2-3\n",
        "my_name = \"dylan\"\n",
        "print(f\"What's good {my_name}\")"
      ],
      "metadata": {
        "colab": {
          "base_uri": "https://localhost:8080/"
        },
        "id": "TR6kD2QkL0JG",
        "outputId": "188ba217-c7ff-442a-f4d2-185f238347fa"
      },
      "execution_count": 12,
      "outputs": [
        {
          "output_type": "stream",
          "name": "stdout",
          "text": [
            "What's good dylan\n"
          ]
        }
      ]
    },
    {
      "cell_type": "code",
      "source": [
        "# TIY 2-4\n",
        "#Dylan Balta, Feb 12, 2024\n",
        "#This one is to use capitalization in certain ways through Python itself, which will be nice to make all of the name inputs look the same\n",
        "name = \"dylan balta\"\n",
        "print(name.upper())\n",
        "print(name.lower())\n",
        "print(name.title())"
      ],
      "metadata": {
        "colab": {
          "base_uri": "https://localhost:8080/"
        },
        "id": "qYu6c_ObQkiK",
        "outputId": "eb35656a-ed2e-428c-916f-35fc929e7178"
      },
      "execution_count": 13,
      "outputs": [
        {
          "output_type": "stream",
          "name": "stdout",
          "text": [
            "DYLAN BALTA\n",
            "dylan balta\n",
            "Dylan Balta\n"
          ]
        }
      ]
    },
    {
      "cell_type": "code",
      "source": [
        "# TIY 2-5\n",
        "powerful_quote = \"Why do today what can be put off to tomorrow?\"\n",
        "print(f\"Squidward Tentacles once said, '{powerful_quote}'\")"
      ],
      "metadata": {
        "colab": {
          "base_uri": "https://localhost:8080/"
        },
        "id": "iIdPfcE9Q4zv",
        "outputId": "6d9c10f4-14a3-4151-e1a4-f9b85b713cc6"
      },
      "execution_count": 15,
      "outputs": [
        {
          "output_type": "stream",
          "name": "stdout",
          "text": [
            "Squidward Tentacles once said, 'Why do today what can be put off to tomorrow?'\n"
          ]
        }
      ]
    },
    {
      "cell_type": "code",
      "source": [
        "# TIY 2-6\n",
        "famous_person = \"Squidward Tentacles\"\n",
        "message = \"Why do today what can be put off to tomorrow?\"\n",
        "print(f\"{famous_person} once said, '{message}'\")"
      ],
      "metadata": {
        "colab": {
          "base_uri": "https://localhost:8080/"
        },
        "id": "olCPdoJLRzbj",
        "outputId": "b7c31bf8-a7c3-4e47-d65b-e21b4bb275c6"
      },
      "execution_count": 17,
      "outputs": [
        {
          "output_type": "stream",
          "name": "stdout",
          "text": [
            "Squidward Tentacles once said, 'Why do today what can be put off to tomorrow?'\n"
          ]
        }
      ]
    },
    {
      "cell_type": "code",
      "source": [
        "# TIY 2-7\n",
        "person_name = ' Albert '\n",
        "print({person_name})\n",
        "print({person_name.lstrip()})\n",
        "print({person_name.rstrip()})\n",
        "print({person_name.strip()})\n",
        "print(\"\\tI'm not sure how to fit the tab and enter into the above code\\nBut I need to so here it is\")"
      ],
      "metadata": {
        "colab": {
          "base_uri": "https://localhost:8080/"
        },
        "id": "KG7eSyDuSPAK",
        "outputId": "f00aa03b-444a-4915-e86d-30b69c654c30"
      },
      "execution_count": 40,
      "outputs": [
        {
          "output_type": "stream",
          "name": "stdout",
          "text": [
            "{' Albert '}\n",
            "{'Albert '}\n",
            "{' Albert'}\n",
            "{'Albert'}\n",
            "\tI'm not sure how to fit the tab and enter into the above code\n",
            "But I need to so here it is\n"
          ]
        }
      ]
    },
    {
      "cell_type": "code",
      "source": [
        "# TIY 2-8\n",
        "filename = 'python_notes.txt'\n",
        "print(filename.removesuffix('.txt'))"
      ],
      "metadata": {
        "colab": {
          "base_uri": "https://localhost:8080/"
        },
        "id": "AtbOeX0kU6-X",
        "outputId": "137df3cb-b3bc-4c45-b857-8289c24c5568"
      },
      "execution_count": 44,
      "outputs": [
        {
          "output_type": "stream",
          "name": "stdout",
          "text": [
            "python_notes\n"
          ]
        }
      ]
    },
    {
      "cell_type": "code",
      "source": [
        "# TIY 2-9\n",
        "print(8+0)\n",
        "print(9-1)\n",
        "print(4*2)\n",
        "print(72/9)"
      ],
      "metadata": {
        "colab": {
          "base_uri": "https://localhost:8080/"
        },
        "id": "OgWQXBV8VaJw",
        "outputId": "7ad44332-1b12-448a-8109-446c6fd6a022"
      },
      "execution_count": 47,
      "outputs": [
        {
          "output_type": "stream",
          "name": "stdout",
          "text": [
            "8\n",
            "8\n",
            "8\n",
            "8.0\n"
          ]
        }
      ]
    },
    {
      "cell_type": "code",
      "source": [
        "# TIY 2-10\n",
        "fav_num = 7\n",
        "print(f\"My favorite number is {fav_num}\")"
      ],
      "metadata": {
        "colab": {
          "base_uri": "https://localhost:8080/"
        },
        "id": "6XUc7PPNWH5C",
        "outputId": "884df90e-804f-44e9-a548-10dc890904fd"
      },
      "execution_count": 48,
      "outputs": [
        {
          "output_type": "stream",
          "name": "stdout",
          "text": [
            "My favorite number is 7\n"
          ]
        }
      ]
    },
    {
      "cell_type": "code",
      "source": [
        "# TIY 2-11\n",
        "#This one is to just write comments, so I did them on 2-1 and 2-4, which I'm sure you already saw"
      ],
      "metadata": {
        "id": "eLnyI5_kWTIN"
      },
      "execution_count": null,
      "outputs": []
    },
    {
      "cell_type": "code",
      "source": [
        "# TIY 2-12\n",
        "import this"
      ],
      "metadata": {
        "colab": {
          "base_uri": "https://localhost:8080/"
        },
        "id": "gYcoGKjXXD4S",
        "outputId": "e2ba7c96-bf70-4970-e2a8-eec370a3ca62"
      },
      "execution_count": 49,
      "outputs": [
        {
          "output_type": "stream",
          "name": "stdout",
          "text": [
            "The Zen of Python, by Tim Peters\n",
            "\n",
            "Beautiful is better than ugly.\n",
            "Explicit is better than implicit.\n",
            "Simple is better than complex.\n",
            "Complex is better than complicated.\n",
            "Flat is better than nested.\n",
            "Sparse is better than dense.\n",
            "Readability counts.\n",
            "Special cases aren't special enough to break the rules.\n",
            "Although practicality beats purity.\n",
            "Errors should never pass silently.\n",
            "Unless explicitly silenced.\n",
            "In the face of ambiguity, refuse the temptation to guess.\n",
            "There should be one-- and preferably only one --obvious way to do it.\n",
            "Although that way may not be obvious at first unless you're Dutch.\n",
            "Now is better than never.\n",
            "Although never is often better than *right* now.\n",
            "If the implementation is hard to explain, it's a bad idea.\n",
            "If the implementation is easy to explain, it may be a good idea.\n",
            "Namespaces are one honking great idea -- let's do more of those!\n"
          ]
        }
      ]
    }
  ]
}